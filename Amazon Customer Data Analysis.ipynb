{
 "cells": [
  {
   "cell_type": "code",
   "execution_count": 1,
   "id": "3b723272",
   "metadata": {},
   "outputs": [],
   "source": [
    "import pandas as pd\n",
    "import numpy as np\n",
    "import seaborn as sns\n",
    "import matplotlib.pyplot as plt"
   ]
  },
  {
   "cell_type": "markdown",
   "id": "1895a77f",
   "metadata": {},
   "source": [
    "# EXTRACT"
   ]
  },
  {
   "cell_type": "code",
   "execution_count": 2,
   "id": "b0ef7a46",
   "metadata": {},
   "outputs": [],
   "source": [
    "# need to read data from sqlite - relational db, android database"
   ]
  },
  {
   "cell_type": "code",
   "execution_count": 3,
   "id": "a9317e59",
   "metadata": {},
   "outputs": [],
   "source": [
    "import sqlite3 "
   ]
  },
  {
   "cell_type": "code",
   "execution_count": 4,
   "id": "bb724fda",
   "metadata": {},
   "outputs": [],
   "source": [
    "con = sqlite3.connect(r\"C:\\Users\\College\\OneDrive\\Documents\\GitHub\\Amazon-Customer-Data-Analysis\\database.sqlite\")"
   ]
  },
  {
   "cell_type": "code",
   "execution_count": 5,
   "id": "285f7eab",
   "metadata": {},
   "outputs": [
    {
     "data": {
      "text/plain": [
       "sqlite3.Connection"
      ]
     },
     "execution_count": 5,
     "metadata": {},
     "output_type": "execute_result"
    }
   ],
   "source": [
    "type(con)"
   ]
  },
  {
   "cell_type": "code",
   "execution_count": 6,
   "id": "bef25678",
   "metadata": {},
   "outputs": [],
   "source": [
    "df = pd.read_sql_query(\"SELECT * FROM REVIEWS\", con)"
   ]
  },
  {
   "cell_type": "code",
   "execution_count": 7,
   "id": "f0fe61e4",
   "metadata": {},
   "outputs": [
    {
     "data": {
      "text/html": [
       "<div>\n",
       "<style scoped>\n",
       "    .dataframe tbody tr th:only-of-type {\n",
       "        vertical-align: middle;\n",
       "    }\n",
       "\n",
       "    .dataframe tbody tr th {\n",
       "        vertical-align: top;\n",
       "    }\n",
       "\n",
       "    .dataframe thead th {\n",
       "        text-align: right;\n",
       "    }\n",
       "</style>\n",
       "<table border=\"1\" class=\"dataframe\">\n",
       "  <thead>\n",
       "    <tr style=\"text-align: right;\">\n",
       "      <th></th>\n",
       "      <th>Id</th>\n",
       "      <th>ProductId</th>\n",
       "      <th>UserId</th>\n",
       "      <th>ProfileName</th>\n",
       "      <th>HelpfulnessNumerator</th>\n",
       "      <th>HelpfulnessDenominator</th>\n",
       "      <th>Score</th>\n",
       "      <th>Time</th>\n",
       "      <th>Summary</th>\n",
       "      <th>Text</th>\n",
       "    </tr>\n",
       "  </thead>\n",
       "  <tbody>\n",
       "    <tr>\n",
       "      <th>0</th>\n",
       "      <td>1</td>\n",
       "      <td>B001E4KFG0</td>\n",
       "      <td>A3SGXH7AUHU8GW</td>\n",
       "      <td>delmartian</td>\n",
       "      <td>1</td>\n",
       "      <td>1</td>\n",
       "      <td>5</td>\n",
       "      <td>1303862400</td>\n",
       "      <td>Good Quality Dog Food</td>\n",
       "      <td>I have bought several of the Vitality canned d...</td>\n",
       "    </tr>\n",
       "    <tr>\n",
       "      <th>1</th>\n",
       "      <td>2</td>\n",
       "      <td>B00813GRG4</td>\n",
       "      <td>A1D87F6ZCVE5NK</td>\n",
       "      <td>dll pa</td>\n",
       "      <td>0</td>\n",
       "      <td>0</td>\n",
       "      <td>1</td>\n",
       "      <td>1346976000</td>\n",
       "      <td>Not as Advertised</td>\n",
       "      <td>Product arrived labeled as Jumbo Salted Peanut...</td>\n",
       "    </tr>\n",
       "    <tr>\n",
       "      <th>2</th>\n",
       "      <td>3</td>\n",
       "      <td>B000LQOCH0</td>\n",
       "      <td>ABXLMWJIXXAIN</td>\n",
       "      <td>Natalia Corres \"Natalia Corres\"</td>\n",
       "      <td>1</td>\n",
       "      <td>1</td>\n",
       "      <td>4</td>\n",
       "      <td>1219017600</td>\n",
       "      <td>\"Delight\" says it all</td>\n",
       "      <td>This is a confection that has been around a fe...</td>\n",
       "    </tr>\n",
       "    <tr>\n",
       "      <th>3</th>\n",
       "      <td>4</td>\n",
       "      <td>B000UA0QIQ</td>\n",
       "      <td>A395BORC6FGVXV</td>\n",
       "      <td>Karl</td>\n",
       "      <td>3</td>\n",
       "      <td>3</td>\n",
       "      <td>2</td>\n",
       "      <td>1307923200</td>\n",
       "      <td>Cough Medicine</td>\n",
       "      <td>If you are looking for the secret ingredient i...</td>\n",
       "    </tr>\n",
       "    <tr>\n",
       "      <th>4</th>\n",
       "      <td>5</td>\n",
       "      <td>B006K2ZZ7K</td>\n",
       "      <td>A1UQRSCLF8GW1T</td>\n",
       "      <td>Michael D. Bigham \"M. Wassir\"</td>\n",
       "      <td>0</td>\n",
       "      <td>0</td>\n",
       "      <td>5</td>\n",
       "      <td>1350777600</td>\n",
       "      <td>Great taffy</td>\n",
       "      <td>Great taffy at a great price.  There was a wid...</td>\n",
       "    </tr>\n",
       "    <tr>\n",
       "      <th>...</th>\n",
       "      <td>...</td>\n",
       "      <td>...</td>\n",
       "      <td>...</td>\n",
       "      <td>...</td>\n",
       "      <td>...</td>\n",
       "      <td>...</td>\n",
       "      <td>...</td>\n",
       "      <td>...</td>\n",
       "      <td>...</td>\n",
       "      <td>...</td>\n",
       "    </tr>\n",
       "    <tr>\n",
       "      <th>568449</th>\n",
       "      <td>568450</td>\n",
       "      <td>B001EO7N10</td>\n",
       "      <td>A28KG5XORO54AY</td>\n",
       "      <td>Lettie D. Carter</td>\n",
       "      <td>0</td>\n",
       "      <td>0</td>\n",
       "      <td>5</td>\n",
       "      <td>1299628800</td>\n",
       "      <td>Will not do without</td>\n",
       "      <td>Great for sesame chicken..this is a good if no...</td>\n",
       "    </tr>\n",
       "    <tr>\n",
       "      <th>568450</th>\n",
       "      <td>568451</td>\n",
       "      <td>B003S1WTCU</td>\n",
       "      <td>A3I8AFVPEE8KI5</td>\n",
       "      <td>R. Sawyer</td>\n",
       "      <td>0</td>\n",
       "      <td>0</td>\n",
       "      <td>2</td>\n",
       "      <td>1331251200</td>\n",
       "      <td>disappointed</td>\n",
       "      <td>I'm disappointed with the flavor. The chocolat...</td>\n",
       "    </tr>\n",
       "    <tr>\n",
       "      <th>568451</th>\n",
       "      <td>568452</td>\n",
       "      <td>B004I613EE</td>\n",
       "      <td>A121AA1GQV751Z</td>\n",
       "      <td>pksd \"pk_007\"</td>\n",
       "      <td>2</td>\n",
       "      <td>2</td>\n",
       "      <td>5</td>\n",
       "      <td>1329782400</td>\n",
       "      <td>Perfect for our maltipoo</td>\n",
       "      <td>These stars are small, so you can give 10-15 o...</td>\n",
       "    </tr>\n",
       "    <tr>\n",
       "      <th>568452</th>\n",
       "      <td>568453</td>\n",
       "      <td>B004I613EE</td>\n",
       "      <td>A3IBEVCTXKNOH</td>\n",
       "      <td>Kathy A. Welch \"katwel\"</td>\n",
       "      <td>1</td>\n",
       "      <td>1</td>\n",
       "      <td>5</td>\n",
       "      <td>1331596800</td>\n",
       "      <td>Favorite Training and reward treat</td>\n",
       "      <td>These are the BEST treats for training and rew...</td>\n",
       "    </tr>\n",
       "    <tr>\n",
       "      <th>568453</th>\n",
       "      <td>568454</td>\n",
       "      <td>B001LR2CU2</td>\n",
       "      <td>A3LGQPJCZVL9UC</td>\n",
       "      <td>srfell17</td>\n",
       "      <td>0</td>\n",
       "      <td>0</td>\n",
       "      <td>5</td>\n",
       "      <td>1338422400</td>\n",
       "      <td>Great Honey</td>\n",
       "      <td>I am very satisfied ,product is as advertised,...</td>\n",
       "    </tr>\n",
       "  </tbody>\n",
       "</table>\n",
       "<p>568454 rows × 10 columns</p>\n",
       "</div>"
      ],
      "text/plain": [
       "            Id   ProductId          UserId                      ProfileName  \\\n",
       "0            1  B001E4KFG0  A3SGXH7AUHU8GW                       delmartian   \n",
       "1            2  B00813GRG4  A1D87F6ZCVE5NK                           dll pa   \n",
       "2            3  B000LQOCH0   ABXLMWJIXXAIN  Natalia Corres \"Natalia Corres\"   \n",
       "3            4  B000UA0QIQ  A395BORC6FGVXV                             Karl   \n",
       "4            5  B006K2ZZ7K  A1UQRSCLF8GW1T    Michael D. Bigham \"M. Wassir\"   \n",
       "...        ...         ...             ...                              ...   \n",
       "568449  568450  B001EO7N10  A28KG5XORO54AY                 Lettie D. Carter   \n",
       "568450  568451  B003S1WTCU  A3I8AFVPEE8KI5                        R. Sawyer   \n",
       "568451  568452  B004I613EE  A121AA1GQV751Z                    pksd \"pk_007\"   \n",
       "568452  568453  B004I613EE   A3IBEVCTXKNOH          Kathy A. Welch \"katwel\"   \n",
       "568453  568454  B001LR2CU2  A3LGQPJCZVL9UC                         srfell17   \n",
       "\n",
       "        HelpfulnessNumerator  HelpfulnessDenominator  Score        Time  \\\n",
       "0                          1                       1      5  1303862400   \n",
       "1                          0                       0      1  1346976000   \n",
       "2                          1                       1      4  1219017600   \n",
       "3                          3                       3      2  1307923200   \n",
       "4                          0                       0      5  1350777600   \n",
       "...                      ...                     ...    ...         ...   \n",
       "568449                     0                       0      5  1299628800   \n",
       "568450                     0                       0      2  1331251200   \n",
       "568451                     2                       2      5  1329782400   \n",
       "568452                     1                       1      5  1331596800   \n",
       "568453                     0                       0      5  1338422400   \n",
       "\n",
       "                                   Summary  \\\n",
       "0                    Good Quality Dog Food   \n",
       "1                        Not as Advertised   \n",
       "2                    \"Delight\" says it all   \n",
       "3                           Cough Medicine   \n",
       "4                              Great taffy   \n",
       "...                                    ...   \n",
       "568449                 Will not do without   \n",
       "568450                        disappointed   \n",
       "568451            Perfect for our maltipoo   \n",
       "568452  Favorite Training and reward treat   \n",
       "568453                         Great Honey   \n",
       "\n",
       "                                                     Text  \n",
       "0       I have bought several of the Vitality canned d...  \n",
       "1       Product arrived labeled as Jumbo Salted Peanut...  \n",
       "2       This is a confection that has been around a fe...  \n",
       "3       If you are looking for the secret ingredient i...  \n",
       "4       Great taffy at a great price.  There was a wid...  \n",
       "...                                                   ...  \n",
       "568449  Great for sesame chicken..this is a good if no...  \n",
       "568450  I'm disappointed with the flavor. The chocolat...  \n",
       "568451  These stars are small, so you can give 10-15 o...  \n",
       "568452  These are the BEST treats for training and rew...  \n",
       "568453  I am very satisfied ,product is as advertised,...  \n",
       "\n",
       "[568454 rows x 10 columns]"
      ]
     },
     "execution_count": 7,
     "metadata": {},
     "output_type": "execute_result"
    }
   ],
   "source": [
    "df"
   ]
  },
  {
   "cell_type": "code",
   "execution_count": 8,
   "id": "12a2fb2a",
   "metadata": {},
   "outputs": [
    {
     "data": {
      "text/plain": [
       "(568454, 10)"
      ]
     },
     "execution_count": 8,
     "metadata": {},
     "output_type": "execute_result"
    }
   ],
   "source": [
    "df.shape"
   ]
  },
  {
   "cell_type": "markdown",
   "id": "dd4cf84b",
   "metadata": {},
   "source": [
    "# Tranform"
   ]
  },
  {
   "cell_type": "markdown",
   "id": "743f0d45",
   "metadata": {},
   "source": [
    "## Data Preperation"
   ]
  },
  {
   "cell_type": "code",
   "execution_count": 9,
   "id": "c4241a17",
   "metadata": {},
   "outputs": [
    {
     "data": {
      "text/plain": [
       "Index(['Id', 'ProductId', 'UserId', 'ProfileName', 'HelpfulnessNumerator',\n",
       "       'HelpfulnessDenominator', 'Score', 'Time', 'Summary', 'Text'],\n",
       "      dtype='object')"
      ]
     },
     "execution_count": 9,
     "metadata": {},
     "output_type": "execute_result"
    }
   ],
   "source": [
    "df.columns"
   ]
  },
  {
   "cell_type": "code",
   "execution_count": 10,
   "id": "e2ce82d8",
   "metadata": {},
   "outputs": [],
   "source": [
    "#'HelpfulnessNumerator' - number of helpful reviews\n",
    "# 'HelpfulnessDenominator' - total number of reviews"
   ]
  },
  {
   "cell_type": "code",
   "execution_count": 11,
   "id": "e5b65f24",
   "metadata": {},
   "outputs": [
    {
     "data": {
      "text/plain": [
       "0         False\n",
       "1         False\n",
       "2         False\n",
       "3         False\n",
       "4         False\n",
       "          ...  \n",
       "568449    False\n",
       "568450    False\n",
       "568451    False\n",
       "568452    False\n",
       "568453    False\n",
       "Length: 568454, dtype: bool"
      ]
     },
     "execution_count": 11,
     "metadata": {},
     "output_type": "execute_result"
    }
   ],
   "source": [
    "# 'HelpfulnessNumerator' < 'HelpfulnessDenominator'\n",
    "df['HelpfulnessNumerator'] > df['HelpfulnessDenominator']  #invalid row"
   ]
  },
  {
   "cell_type": "code",
   "execution_count": 12,
   "id": "7f6e5c68",
   "metadata": {},
   "outputs": [
    {
     "data": {
      "text/html": [
       "<div>\n",
       "<style scoped>\n",
       "    .dataframe tbody tr th:only-of-type {\n",
       "        vertical-align: middle;\n",
       "    }\n",
       "\n",
       "    .dataframe tbody tr th {\n",
       "        vertical-align: top;\n",
       "    }\n",
       "\n",
       "    .dataframe thead th {\n",
       "        text-align: right;\n",
       "    }\n",
       "</style>\n",
       "<table border=\"1\" class=\"dataframe\">\n",
       "  <thead>\n",
       "    <tr style=\"text-align: right;\">\n",
       "      <th></th>\n",
       "      <th>Id</th>\n",
       "      <th>ProductId</th>\n",
       "      <th>UserId</th>\n",
       "      <th>ProfileName</th>\n",
       "      <th>HelpfulnessNumerator</th>\n",
       "      <th>HelpfulnessDenominator</th>\n",
       "      <th>Score</th>\n",
       "      <th>Time</th>\n",
       "      <th>Summary</th>\n",
       "      <th>Text</th>\n",
       "    </tr>\n",
       "  </thead>\n",
       "  <tbody>\n",
       "    <tr>\n",
       "      <th>44736</th>\n",
       "      <td>44737</td>\n",
       "      <td>B001EQ55RW</td>\n",
       "      <td>A2V0I904FH7ABY</td>\n",
       "      <td>Ram</td>\n",
       "      <td>3</td>\n",
       "      <td>2</td>\n",
       "      <td>4</td>\n",
       "      <td>1212883200</td>\n",
       "      <td>Pure cocoa taste with crunchy almonds inside</td>\n",
       "      <td>It was almost a 'love at first bite' - the per...</td>\n",
       "    </tr>\n",
       "    <tr>\n",
       "      <th>64421</th>\n",
       "      <td>64422</td>\n",
       "      <td>B000MIDROQ</td>\n",
       "      <td>A161DK06JJMCYF</td>\n",
       "      <td>J. E. Stephens \"Jeanne\"</td>\n",
       "      <td>3</td>\n",
       "      <td>1</td>\n",
       "      <td>5</td>\n",
       "      <td>1224892800</td>\n",
       "      <td>Bought This for My Son at College</td>\n",
       "      <td>My son loves spaghetti so I didn't hesitate or...</td>\n",
       "    </tr>\n",
       "  </tbody>\n",
       "</table>\n",
       "</div>"
      ],
      "text/plain": [
       "          Id   ProductId          UserId              ProfileName  \\\n",
       "44736  44737  B001EQ55RW  A2V0I904FH7ABY                      Ram   \n",
       "64421  64422  B000MIDROQ  A161DK06JJMCYF  J. E. Stephens \"Jeanne\"   \n",
       "\n",
       "       HelpfulnessNumerator  HelpfulnessDenominator  Score        Time  \\\n",
       "44736                     3                       2      4  1212883200   \n",
       "64421                     3                       1      5  1224892800   \n",
       "\n",
       "                                            Summary  \\\n",
       "44736  Pure cocoa taste with crunchy almonds inside   \n",
       "64421             Bought This for My Son at College   \n",
       "\n",
       "                                                    Text  \n",
       "44736  It was almost a 'love at first bite' - the per...  \n",
       "64421  My son loves spaghetti so I didn't hesitate or...  "
      ]
     },
     "execution_count": 12,
     "metadata": {},
     "output_type": "execute_result"
    }
   ],
   "source": [
    "df[df['HelpfulnessNumerator'] > df['HelpfulnessDenominator']]  # return rows where this condition is true"
   ]
  },
  {
   "cell_type": "code",
   "execution_count": 13,
   "id": "7190d6bc",
   "metadata": {},
   "outputs": [],
   "source": [
    "df_valid = df[df['HelpfulnessNumerator'] <= df['HelpfulnessDenominator']]"
   ]
  },
  {
   "cell_type": "code",
   "execution_count": 14,
   "id": "a328d184",
   "metadata": {},
   "outputs": [
    {
     "data": {
      "text/plain": [
       "(568452, 10)"
      ]
     },
     "execution_count": 14,
     "metadata": {},
     "output_type": "execute_result"
    }
   ],
   "source": [
    "df_valid.shape"
   ]
  },
  {
   "cell_type": "code",
   "execution_count": 15,
   "id": "d138657e",
   "metadata": {},
   "outputs": [
    {
     "data": {
      "text/plain": [
       "0         False\n",
       "1         False\n",
       "2         False\n",
       "3         False\n",
       "4         False\n",
       "          ...  \n",
       "568449    False\n",
       "568450    False\n",
       "568451    False\n",
       "568452    False\n",
       "568453    False\n",
       "Length: 568452, dtype: bool"
      ]
     },
     "execution_count": 15,
     "metadata": {},
     "output_type": "execute_result"
    }
   ],
   "source": [
    "# remove duplicates to remove unbiased results\n",
    "df_valid.duplicated(['UserId','ProfileName','Time','Text'])"
   ]
  },
  {
   "cell_type": "code",
   "execution_count": 16,
   "id": "ae6ee980",
   "metadata": {},
   "outputs": [
    {
     "data": {
      "text/html": [
       "<div>\n",
       "<style scoped>\n",
       "    .dataframe tbody tr th:only-of-type {\n",
       "        vertical-align: middle;\n",
       "    }\n",
       "\n",
       "    .dataframe tbody tr th {\n",
       "        vertical-align: top;\n",
       "    }\n",
       "\n",
       "    .dataframe thead th {\n",
       "        text-align: right;\n",
       "    }\n",
       "</style>\n",
       "<table border=\"1\" class=\"dataframe\">\n",
       "  <thead>\n",
       "    <tr style=\"text-align: right;\">\n",
       "      <th></th>\n",
       "      <th>Id</th>\n",
       "      <th>ProductId</th>\n",
       "      <th>UserId</th>\n",
       "      <th>ProfileName</th>\n",
       "      <th>HelpfulnessNumerator</th>\n",
       "      <th>HelpfulnessDenominator</th>\n",
       "      <th>Score</th>\n",
       "      <th>Time</th>\n",
       "      <th>Summary</th>\n",
       "      <th>Text</th>\n",
       "    </tr>\n",
       "  </thead>\n",
       "  <tbody>\n",
       "    <tr>\n",
       "      <th>29</th>\n",
       "      <td>30</td>\n",
       "      <td>B0001PB9FY</td>\n",
       "      <td>A3HDKO7OW0QNK4</td>\n",
       "      <td>Canadian Fan</td>\n",
       "      <td>1</td>\n",
       "      <td>1</td>\n",
       "      <td>5</td>\n",
       "      <td>1107820800</td>\n",
       "      <td>The Best Hot Sauce in the World</td>\n",
       "      <td>I don't know if it's the cactus or the tequila...</td>\n",
       "    </tr>\n",
       "    <tr>\n",
       "      <th>574</th>\n",
       "      <td>575</td>\n",
       "      <td>B000G6RYNE</td>\n",
       "      <td>A3PJZ8TU8FDQ1K</td>\n",
       "      <td>Jared Castle</td>\n",
       "      <td>2</td>\n",
       "      <td>2</td>\n",
       "      <td>5</td>\n",
       "      <td>1231718400</td>\n",
       "      <td>One bite and you'll become a \"chippoisseur\"</td>\n",
       "      <td>I'm addicted to salty and tangy flavors, so wh...</td>\n",
       "    </tr>\n",
       "    <tr>\n",
       "      <th>1973</th>\n",
       "      <td>1974</td>\n",
       "      <td>B0017165OG</td>\n",
       "      <td>A2EPNS38TTLZYN</td>\n",
       "      <td>tedebear</td>\n",
       "      <td>0</td>\n",
       "      <td>0</td>\n",
       "      <td>3</td>\n",
       "      <td>1312675200</td>\n",
       "      <td>Pok Chops</td>\n",
       "      <td>The pork chops from Omaha Steaks were very tas...</td>\n",
       "    </tr>\n",
       "    <tr>\n",
       "      <th>2309</th>\n",
       "      <td>2310</td>\n",
       "      <td>B0001VWE0M</td>\n",
       "      <td>AQM74O8Z4FMS0</td>\n",
       "      <td>Sunshine</td>\n",
       "      <td>0</td>\n",
       "      <td>0</td>\n",
       "      <td>2</td>\n",
       "      <td>1127606400</td>\n",
       "      <td>Below standard</td>\n",
       "      <td>Too much of the white pith on this orange peel...</td>\n",
       "    </tr>\n",
       "    <tr>\n",
       "      <th>2323</th>\n",
       "      <td>2324</td>\n",
       "      <td>B0001VWE0C</td>\n",
       "      <td>AQM74O8Z4FMS0</td>\n",
       "      <td>Sunshine</td>\n",
       "      <td>0</td>\n",
       "      <td>0</td>\n",
       "      <td>2</td>\n",
       "      <td>1127606400</td>\n",
       "      <td>Below standard</td>\n",
       "      <td>Too much of the white pith on this orange peel...</td>\n",
       "    </tr>\n",
       "    <tr>\n",
       "      <th>...</th>\n",
       "      <td>...</td>\n",
       "      <td>...</td>\n",
       "      <td>...</td>\n",
       "      <td>...</td>\n",
       "      <td>...</td>\n",
       "      <td>...</td>\n",
       "      <td>...</td>\n",
       "      <td>...</td>\n",
       "      <td>...</td>\n",
       "      <td>...</td>\n",
       "    </tr>\n",
       "    <tr>\n",
       "      <th>568409</th>\n",
       "      <td>568410</td>\n",
       "      <td>B0018CLWM4</td>\n",
       "      <td>A2PE0AGWV6OPL7</td>\n",
       "      <td>Dark Water Mermaid</td>\n",
       "      <td>3</td>\n",
       "      <td>3</td>\n",
       "      <td>5</td>\n",
       "      <td>1309651200</td>\n",
       "      <td>Quality &amp; affordable food</td>\n",
       "      <td>I was very pleased with the ingredient quality...</td>\n",
       "    </tr>\n",
       "    <tr>\n",
       "      <th>568410</th>\n",
       "      <td>568411</td>\n",
       "      <td>B0018CLWM4</td>\n",
       "      <td>A88HLWDCU57WG</td>\n",
       "      <td>R28</td>\n",
       "      <td>2</td>\n",
       "      <td>2</td>\n",
       "      <td>5</td>\n",
       "      <td>1332979200</td>\n",
       "      <td>litter box</td>\n",
       "      <td>My main reason for the five star review has to...</td>\n",
       "    </tr>\n",
       "    <tr>\n",
       "      <th>568411</th>\n",
       "      <td>568412</td>\n",
       "      <td>B0018CLWM4</td>\n",
       "      <td>AUX1HSY8FX55S</td>\n",
       "      <td>DAW</td>\n",
       "      <td>1</td>\n",
       "      <td>1</td>\n",
       "      <td>5</td>\n",
       "      <td>1319500800</td>\n",
       "      <td>Happy Camper</td>\n",
       "      <td>I bought this to try on two registered Maine C...</td>\n",
       "    </tr>\n",
       "    <tr>\n",
       "      <th>568412</th>\n",
       "      <td>568413</td>\n",
       "      <td>B0018CLWM4</td>\n",
       "      <td>AVZ2OZ479Q9E8</td>\n",
       "      <td>Ai Ling Chow</td>\n",
       "      <td>0</td>\n",
       "      <td>0</td>\n",
       "      <td>5</td>\n",
       "      <td>1336435200</td>\n",
       "      <td>Two Siberians like it!</td>\n",
       "      <td>When we brought home two 3-month-old purebred ...</td>\n",
       "    </tr>\n",
       "    <tr>\n",
       "      <th>568413</th>\n",
       "      <td>568414</td>\n",
       "      <td>B0018CLWM4</td>\n",
       "      <td>AI3Y26HLPYW4L</td>\n",
       "      <td>kimosabe</td>\n",
       "      <td>1</td>\n",
       "      <td>2</td>\n",
       "      <td>2</td>\n",
       "      <td>1330041600</td>\n",
       "      <td>premium edge cat food</td>\n",
       "      <td>My cats don't like it. what else can I say to ...</td>\n",
       "    </tr>\n",
       "  </tbody>\n",
       "</table>\n",
       "<p>174521 rows × 10 columns</p>\n",
       "</div>"
      ],
      "text/plain": [
       "            Id   ProductId          UserId         ProfileName  \\\n",
       "29          30  B0001PB9FY  A3HDKO7OW0QNK4        Canadian Fan   \n",
       "574        575  B000G6RYNE  A3PJZ8TU8FDQ1K        Jared Castle   \n",
       "1973      1974  B0017165OG  A2EPNS38TTLZYN            tedebear   \n",
       "2309      2310  B0001VWE0M   AQM74O8Z4FMS0            Sunshine   \n",
       "2323      2324  B0001VWE0C   AQM74O8Z4FMS0            Sunshine   \n",
       "...        ...         ...             ...                 ...   \n",
       "568409  568410  B0018CLWM4  A2PE0AGWV6OPL7  Dark Water Mermaid   \n",
       "568410  568411  B0018CLWM4   A88HLWDCU57WG                 R28   \n",
       "568411  568412  B0018CLWM4   AUX1HSY8FX55S                 DAW   \n",
       "568412  568413  B0018CLWM4   AVZ2OZ479Q9E8        Ai Ling Chow   \n",
       "568413  568414  B0018CLWM4   AI3Y26HLPYW4L            kimosabe   \n",
       "\n",
       "        HelpfulnessNumerator  HelpfulnessDenominator  Score        Time  \\\n",
       "29                         1                       1      5  1107820800   \n",
       "574                        2                       2      5  1231718400   \n",
       "1973                       0                       0      3  1312675200   \n",
       "2309                       0                       0      2  1127606400   \n",
       "2323                       0                       0      2  1127606400   \n",
       "...                      ...                     ...    ...         ...   \n",
       "568409                     3                       3      5  1309651200   \n",
       "568410                     2                       2      5  1332979200   \n",
       "568411                     1                       1      5  1319500800   \n",
       "568412                     0                       0      5  1336435200   \n",
       "568413                     1                       2      2  1330041600   \n",
       "\n",
       "                                            Summary  \\\n",
       "29                  The Best Hot Sauce in the World   \n",
       "574     One bite and you'll become a \"chippoisseur\"   \n",
       "1973                                      Pok Chops   \n",
       "2309                                 Below standard   \n",
       "2323                                 Below standard   \n",
       "...                                             ...   \n",
       "568409                    Quality & affordable food   \n",
       "568410                                   litter box   \n",
       "568411                                 Happy Camper   \n",
       "568412                       Two Siberians like it!   \n",
       "568413                        premium edge cat food   \n",
       "\n",
       "                                                     Text  \n",
       "29      I don't know if it's the cactus or the tequila...  \n",
       "574     I'm addicted to salty and tangy flavors, so wh...  \n",
       "1973    The pork chops from Omaha Steaks were very tas...  \n",
       "2309    Too much of the white pith on this orange peel...  \n",
       "2323    Too much of the white pith on this orange peel...  \n",
       "...                                                   ...  \n",
       "568409  I was very pleased with the ingredient quality...  \n",
       "568410  My main reason for the five star review has to...  \n",
       "568411  I bought this to try on two registered Maine C...  \n",
       "568412  When we brought home two 3-month-old purebred ...  \n",
       "568413  My cats don't like it. what else can I say to ...  \n",
       "\n",
       "[174521 rows x 10 columns]"
      ]
     },
     "execution_count": 16,
     "metadata": {},
     "output_type": "execute_result"
    }
   ],
   "source": [
    "df_valid[df_valid.duplicated(['UserId','ProfileName','Time','Text'])]\n",
    "# duplicate rows"
   ]
  },
  {
   "cell_type": "code",
   "execution_count": 17,
   "id": "187c3561",
   "metadata": {},
   "outputs": [],
   "source": [
    "data = df_valid.drop_duplicates(subset = ['UserId','ProfileName','Time','Text'])"
   ]
  },
  {
   "cell_type": "code",
   "execution_count": 18,
   "id": "5a0b972b",
   "metadata": {},
   "outputs": [
    {
     "data": {
      "text/plain": [
       "(393931, 10)"
      ]
     },
     "execution_count": 18,
     "metadata": {},
     "output_type": "execute_result"
    }
   ],
   "source": [
    "data.shape"
   ]
  },
  {
   "cell_type": "code",
   "execution_count": 19,
   "id": "9def5da5",
   "metadata": {},
   "outputs": [
    {
     "data": {
      "text/plain": [
       "Id                         int64\n",
       "ProductId                 object\n",
       "UserId                    object\n",
       "ProfileName               object\n",
       "HelpfulnessNumerator       int64\n",
       "HelpfulnessDenominator     int64\n",
       "Score                      int64\n",
       "Time                       int64\n",
       "Summary                   object\n",
       "Text                      object\n",
       "dtype: object"
      ]
     },
     "execution_count": 19,
     "metadata": {},
     "output_type": "execute_result"
    }
   ],
   "source": [
    "data.dtypes"
   ]
  },
  {
   "cell_type": "code",
   "execution_count": 20,
   "id": "15e1e7e8",
   "metadata": {},
   "outputs": [
    {
     "name": "stderr",
     "output_type": "stream",
     "text": [
      "C:\\Users\\College\\AppData\\Local\\Temp/ipykernel_3360/1850934656.py:1: SettingWithCopyWarning: \n",
      "A value is trying to be set on a copy of a slice from a DataFrame.\n",
      "Try using .loc[row_indexer,col_indexer] = value instead\n",
      "\n",
      "See the caveats in the documentation: https://pandas.pydata.org/pandas-docs/stable/user_guide/indexing.html#returning-a-view-versus-a-copy\n",
      "  data['Time'] = pd.to_datetime(data['Time'], unit = 's')\n"
     ]
    }
   ],
   "source": [
    "data['Time'] = pd.to_datetime(data['Time'], unit = 's')"
   ]
  },
  {
   "cell_type": "code",
   "execution_count": 21,
   "id": "a28c8018",
   "metadata": {},
   "outputs": [],
   "source": [
    "import warnings\n",
    "from warnings import filterwarnings\n",
    "filterwarnings('ignore')\n"
   ]
  },
  {
   "cell_type": "code",
   "execution_count": 22,
   "id": "ecc0d1ea",
   "metadata": {},
   "outputs": [],
   "source": [
    "data['Time'] = pd.to_datetime(data['Time'], unit = 's')"
   ]
  },
  {
   "cell_type": "markdown",
   "id": "d364ac30",
   "metadata": {},
   "source": [
    "# Analyse to what user amazon can recommend more product"
   ]
  },
  {
   "cell_type": "code",
   "execution_count": 23,
   "id": "bf81e498",
   "metadata": {},
   "outputs": [],
   "source": [
    "# conversion rate\n",
    "# more products bought"
   ]
  },
  {
   "cell_type": "code",
   "execution_count": 24,
   "id": "cbb09a6d",
   "metadata": {},
   "outputs": [
    {
     "data": {
      "text/plain": [
       "Index(['Id', 'ProductId', 'UserId', 'ProfileName', 'HelpfulnessNumerator',\n",
       "       'HelpfulnessDenominator', 'Score', 'Time', 'Summary', 'Text'],\n",
       "      dtype='object')"
      ]
     },
     "execution_count": 24,
     "metadata": {},
     "output_type": "execute_result"
    }
   ],
   "source": [
    "data.columns"
   ]
  },
  {
   "cell_type": "code",
   "execution_count": 25,
   "id": "08148b00",
   "metadata": {},
   "outputs": [
    {
     "data": {
      "text/plain": [
       "0                              delmartian\n",
       "1                                  dll pa\n",
       "2         Natalia Corres \"Natalia Corres\"\n",
       "3                                    Karl\n",
       "4           Michael D. Bigham \"M. Wassir\"\n",
       "                       ...               \n",
       "568449                   Lettie D. Carter\n",
       "568450                          R. Sawyer\n",
       "568451                      pksd \"pk_007\"\n",
       "568452            Kathy A. Welch \"katwel\"\n",
       "568453                           srfell17\n",
       "Name: ProfileName, Length: 393931, dtype: object"
      ]
     },
     "execution_count": 25,
     "metadata": {},
     "output_type": "execute_result"
    }
   ],
   "source": [
    "data['ProfileName']"
   ]
  },
  {
   "cell_type": "code",
   "execution_count": 26,
   "id": "037c3f67",
   "metadata": {},
   "outputs": [
    {
     "data": {
      "text/plain": [
       "256059"
      ]
     },
     "execution_count": 26,
     "metadata": {},
     "output_type": "execute_result"
    }
   ],
   "source": [
    "#unique users\n",
    "data['UserId'].nunique()"
   ]
  },
  {
   "cell_type": "code",
   "execution_count": 27,
   "id": "9ac2bb99",
   "metadata": {},
   "outputs": [],
   "source": [
    "recommend_df = data.groupby(['UserId']).agg({'Summary':'count', 'Text':'count', 'Score':'mean', 'ProductId':'count'}).sort_values(by='ProductId', ascending = False)"
   ]
  },
  {
   "cell_type": "code",
   "execution_count": 28,
   "id": "f0bbf096",
   "metadata": {},
   "outputs": [],
   "source": [
    "recommend_df.columns = ['Number_of_summaries', 'num_text', 'avg_score', 'No_of_prods_purchased']"
   ]
  },
  {
   "cell_type": "code",
   "execution_count": 29,
   "id": "54d0daa0",
   "metadata": {},
   "outputs": [
    {
     "data": {
      "text/html": [
       "<div>\n",
       "<style scoped>\n",
       "    .dataframe tbody tr th:only-of-type {\n",
       "        vertical-align: middle;\n",
       "    }\n",
       "\n",
       "    .dataframe tbody tr th {\n",
       "        vertical-align: top;\n",
       "    }\n",
       "\n",
       "    .dataframe thead th {\n",
       "        text-align: right;\n",
       "    }\n",
       "</style>\n",
       "<table border=\"1\" class=\"dataframe\">\n",
       "  <thead>\n",
       "    <tr style=\"text-align: right;\">\n",
       "      <th></th>\n",
       "      <th>Number_of_summaries</th>\n",
       "      <th>num_text</th>\n",
       "      <th>avg_score</th>\n",
       "      <th>No_of_prods_purchased</th>\n",
       "    </tr>\n",
       "    <tr>\n",
       "      <th>UserId</th>\n",
       "      <th></th>\n",
       "      <th></th>\n",
       "      <th></th>\n",
       "      <th></th>\n",
       "    </tr>\n",
       "  </thead>\n",
       "  <tbody>\n",
       "    <tr>\n",
       "      <th>AY12DBB0U420B</th>\n",
       "      <td>329</td>\n",
       "      <td>329</td>\n",
       "      <td>4.659574</td>\n",
       "      <td>329</td>\n",
       "    </tr>\n",
       "    <tr>\n",
       "      <th>A3OXHLG6DIBRW8</th>\n",
       "      <td>278</td>\n",
       "      <td>278</td>\n",
       "      <td>4.546763</td>\n",
       "      <td>278</td>\n",
       "    </tr>\n",
       "    <tr>\n",
       "      <th>A281NPSIMI1C2R</th>\n",
       "      <td>259</td>\n",
       "      <td>259</td>\n",
       "      <td>4.787645</td>\n",
       "      <td>259</td>\n",
       "    </tr>\n",
       "    <tr>\n",
       "      <th>A1YUL9PCJR3JTY</th>\n",
       "      <td>214</td>\n",
       "      <td>214</td>\n",
       "      <td>4.621495</td>\n",
       "      <td>214</td>\n",
       "    </tr>\n",
       "    <tr>\n",
       "      <th>A1Z54EM24Y40LL</th>\n",
       "      <td>211</td>\n",
       "      <td>211</td>\n",
       "      <td>4.383886</td>\n",
       "      <td>211</td>\n",
       "    </tr>\n",
       "    <tr>\n",
       "      <th>...</th>\n",
       "      <td>...</td>\n",
       "      <td>...</td>\n",
       "      <td>...</td>\n",
       "      <td>...</td>\n",
       "    </tr>\n",
       "    <tr>\n",
       "      <th>A2E80MDB9TCNGW</th>\n",
       "      <td>1</td>\n",
       "      <td>1</td>\n",
       "      <td>3.000000</td>\n",
       "      <td>1</td>\n",
       "    </tr>\n",
       "    <tr>\n",
       "      <th>A2E80RT3HOR35T</th>\n",
       "      <td>1</td>\n",
       "      <td>1</td>\n",
       "      <td>5.000000</td>\n",
       "      <td>1</td>\n",
       "    </tr>\n",
       "    <tr>\n",
       "      <th>A2E816C5N51F6X</th>\n",
       "      <td>1</td>\n",
       "      <td>1</td>\n",
       "      <td>5.000000</td>\n",
       "      <td>1</td>\n",
       "    </tr>\n",
       "    <tr>\n",
       "      <th>A2E81TVIUZI1IC</th>\n",
       "      <td>1</td>\n",
       "      <td>1</td>\n",
       "      <td>5.000000</td>\n",
       "      <td>1</td>\n",
       "    </tr>\n",
       "    <tr>\n",
       "      <th>AZZZOVIBXHGDR</th>\n",
       "      <td>1</td>\n",
       "      <td>1</td>\n",
       "      <td>2.000000</td>\n",
       "      <td>1</td>\n",
       "    </tr>\n",
       "  </tbody>\n",
       "</table>\n",
       "<p>256059 rows × 4 columns</p>\n",
       "</div>"
      ],
      "text/plain": [
       "                Number_of_summaries  num_text  avg_score  \\\n",
       "UserId                                                     \n",
       "AY12DBB0U420B                   329       329   4.659574   \n",
       "A3OXHLG6DIBRW8                  278       278   4.546763   \n",
       "A281NPSIMI1C2R                  259       259   4.787645   \n",
       "A1YUL9PCJR3JTY                  214       214   4.621495   \n",
       "A1Z54EM24Y40LL                  211       211   4.383886   \n",
       "...                             ...       ...        ...   \n",
       "A2E80MDB9TCNGW                    1         1   3.000000   \n",
       "A2E80RT3HOR35T                    1         1   5.000000   \n",
       "A2E816C5N51F6X                    1         1   5.000000   \n",
       "A2E81TVIUZI1IC                    1         1   5.000000   \n",
       "AZZZOVIBXHGDR                     1         1   2.000000   \n",
       "\n",
       "                No_of_prods_purchased  \n",
       "UserId                                 \n",
       "AY12DBB0U420B                     329  \n",
       "A3OXHLG6DIBRW8                    278  \n",
       "A281NPSIMI1C2R                    259  \n",
       "A1YUL9PCJR3JTY                    214  \n",
       "A1Z54EM24Y40LL                    211  \n",
       "...                               ...  \n",
       "A2E80MDB9TCNGW                      1  \n",
       "A2E80RT3HOR35T                      1  \n",
       "A2E816C5N51F6X                      1  \n",
       "A2E81TVIUZI1IC                      1  \n",
       "AZZZOVIBXHGDR                       1  \n",
       "\n",
       "[256059 rows x 4 columns]"
      ]
     },
     "execution_count": 29,
     "metadata": {},
     "output_type": "execute_result"
    }
   ],
   "source": [
    "recommend_df"
   ]
  },
  {
   "cell_type": "code",
   "execution_count": 30,
   "id": "cb9937a4",
   "metadata": {},
   "outputs": [
    {
     "data": {
      "text/plain": [
       "Index(['AY12DBB0U420B', 'A3OXHLG6DIBRW8', 'A281NPSIMI1C2R', 'A1YUL9PCJR3JTY',\n",
       "       'A1Z54EM24Y40LL', 'A2MUGFV2TDQ47K', 'A3D6OI36USYOU1', 'AZV26LP92E6WU',\n",
       "       'AKMEY1BSHSDG7', 'A2GEZJHBV92EVR'],\n",
       "      dtype='object', name='UserId')"
      ]
     },
     "execution_count": 30,
     "metadata": {},
     "output_type": "execute_result"
    }
   ],
   "source": [
    "recommend_df.index[0:10]"
   ]
  },
  {
   "cell_type": "code",
   "execution_count": 31,
   "id": "b31614ac",
   "metadata": {},
   "outputs": [
    {
     "data": {
      "text/plain": [
       "array([329, 278, 259, 214, 211, 161, 146, 129, 119, 118], dtype=int64)"
      ]
     },
     "execution_count": 31,
     "metadata": {},
     "output_type": "execute_result"
    }
   ],
   "source": [
    "recommend_df['No_of_prods_purchased'][0:10].values"
   ]
  },
  {
   "cell_type": "code",
   "execution_count": 32,
   "id": "9779b94c",
   "metadata": {},
   "outputs": [
    {
     "data": {
      "text/plain": [
       "([0, 1, 2, 3, 4, 5, 6, 7, 8, 9],\n",
       " [Text(0, 0, ''),\n",
       "  Text(0, 0, ''),\n",
       "  Text(0, 0, ''),\n",
       "  Text(0, 0, ''),\n",
       "  Text(0, 0, ''),\n",
       "  Text(0, 0, ''),\n",
       "  Text(0, 0, ''),\n",
       "  Text(0, 0, ''),\n",
       "  Text(0, 0, ''),\n",
       "  Text(0, 0, '')])"
      ]
     },
     "execution_count": 32,
     "metadata": {},
     "output_type": "execute_result"
    },
    {
     "data": {
      "image/png": "[encoded data removed]",
      "text/plain": [
       "<Figure size 1440x576 with 1 Axes>"
      ]
     },
     "metadata": {
      "needs_background": "light"
     },
     "output_type": "display_data"
    }
   ],
   "source": [
    "plt.figure(figsize = (20,8))\n",
    "plt.bar(recommend_df.index[0:10], recommend_df['No_of_prods_purchased'][0:10].values)\n",
    "plt.xticks(rotation = 'vertical')"
   ]
  },
  {
   "cell_type": "markdown",
   "id": "fedf93bc",
   "metadata": {},
   "source": [
    "# Which product has good number of reviews"
   ]
  },
  {
   "cell_type": "code",
   "execution_count": 33,
   "id": "1bdfde54",
   "metadata": {},
   "outputs": [
    {
     "data": {
      "text/plain": [
       "Index(['Id', 'ProductId', 'UserId', 'ProfileName', 'HelpfulnessNumerator',\n",
       "       'HelpfulnessDenominator', 'Score', 'Time', 'Summary', 'Text'],\n",
       "      dtype='object')"
      ]
     },
     "execution_count": 33,
     "metadata": {},
     "output_type": "execute_result"
    }
   ],
   "source": [
    "data.columns"
   ]
  },
  {
   "cell_type": "code",
   "execution_count": 34,
   "id": "66df7109",
   "metadata": {},
   "outputs": [
    {
     "data": {
      "text/plain": [
       "0         B001E4KFG0\n",
       "1         B00813GRG4\n",
       "2         B000LQOCH0\n",
       "3         B000UA0QIQ\n",
       "4         B006K2ZZ7K\n",
       "             ...    \n",
       "568449    B001EO7N10\n",
       "568450    B003S1WTCU\n",
       "568451    B004I613EE\n",
       "568452    B004I613EE\n",
       "568453    B001LR2CU2\n",
       "Name: ProductId, Length: 393931, dtype: object"
      ]
     },
     "execution_count": 34,
     "metadata": {},
     "output_type": "execute_result"
    }
   ],
   "source": [
    "data['ProductId']"
   ]
  },
  {
   "cell_type": "code",
   "execution_count": 35,
   "id": "59d33f93",
   "metadata": {},
   "outputs": [
    {
     "data": {
      "text/plain": [
       "array(['B001E4KFG0', 'B00813GRG4', 'B000LQOCH0', ..., 'B003S1WTCU',\n",
       "       'B004I613EE', 'B001LR2CU2'], dtype=object)"
      ]
     },
     "execution_count": 35,
     "metadata": {},
     "output_type": "execute_result"
    }
   ],
   "source": [
    "data['ProductId'].unique()"
   ]
  },
  {
   "cell_type": "code",
   "execution_count": 36,
   "id": "261707a1",
   "metadata": {},
   "outputs": [
    {
     "data": {
      "text/plain": [
       "67624"
      ]
     },
     "execution_count": 36,
     "metadata": {},
     "output_type": "execute_result"
    }
   ],
   "source": [
    "data['ProductId'].nunique()"
   ]
  },
  {
   "cell_type": "code",
   "execution_count": 37,
   "id": "5442a152",
   "metadata": {},
   "outputs": [],
   "source": [
    "# which frequent sold product has goos reviews\n",
    "prod_count = data['ProductId'].value_counts().to_frame()"
   ]
  },
  {
   "cell_type": "code",
   "execution_count": 38,
   "id": "0b5ebdb6",
   "metadata": {},
   "outputs": [
    {
     "data": {
      "text/html": [
       "<div>\n",
       "<style scoped>\n",
       "    .dataframe tbody tr th:only-of-type {\n",
       "        vertical-align: middle;\n",
       "    }\n",
       "\n",
       "    .dataframe tbody tr th {\n",
       "        vertical-align: top;\n",
       "    }\n",
       "\n",
       "    .dataframe thead th {\n",
       "        text-align: right;\n",
       "    }\n",
       "</style>\n",
       "<table border=\"1\" class=\"dataframe\">\n",
       "  <thead>\n",
       "    <tr style=\"text-align: right;\">\n",
       "      <th></th>\n",
       "      <th>ProductId</th>\n",
       "    </tr>\n",
       "  </thead>\n",
       "  <tbody>\n",
       "    <tr>\n",
       "      <th>B007JFMH8M</th>\n",
       "      <td>912</td>\n",
       "    </tr>\n",
       "    <tr>\n",
       "      <th>B002QWP89S</th>\n",
       "      <td>630</td>\n",
       "    </tr>\n",
       "    <tr>\n",
       "      <th>B003B3OOPA</th>\n",
       "      <td>622</td>\n",
       "    </tr>\n",
       "    <tr>\n",
       "      <th>B001EO5Q64</th>\n",
       "      <td>566</td>\n",
       "    </tr>\n",
       "    <tr>\n",
       "      <th>B0013NUGDE</th>\n",
       "      <td>558</td>\n",
       "    </tr>\n",
       "    <tr>\n",
       "      <th>...</th>\n",
       "      <td>...</td>\n",
       "    </tr>\n",
       "    <tr>\n",
       "      <th>B002DNX4GO</th>\n",
       "      <td>1</td>\n",
       "    </tr>\n",
       "    <tr>\n",
       "      <th>B000FM2YU2</th>\n",
       "      <td>1</td>\n",
       "    </tr>\n",
       "    <tr>\n",
       "      <th>B001M1VA32</th>\n",
       "      <td>1</td>\n",
       "    </tr>\n",
       "    <tr>\n",
       "      <th>B009858H6M</th>\n",
       "      <td>1</td>\n",
       "    </tr>\n",
       "    <tr>\n",
       "      <th>B001LR2CU2</th>\n",
       "      <td>1</td>\n",
       "    </tr>\n",
       "  </tbody>\n",
       "</table>\n",
       "<p>67624 rows × 1 columns</p>\n",
       "</div>"
      ],
      "text/plain": [
       "            ProductId\n",
       "B007JFMH8M        912\n",
       "B002QWP89S        630\n",
       "B003B3OOPA        622\n",
       "B001EO5Q64        566\n",
       "B0013NUGDE        558\n",
       "...               ...\n",
       "B002DNX4GO          1\n",
       "B000FM2YU2          1\n",
       "B001M1VA32          1\n",
       "B009858H6M          1\n",
       "B001LR2CU2          1\n",
       "\n",
       "[67624 rows x 1 columns]"
      ]
     },
     "execution_count": 38,
     "metadata": {},
     "output_type": "execute_result"
    }
   ],
   "source": [
    "prod_count"
   ]
  },
  {
   "cell_type": "code",
   "execution_count": 39,
   "id": "b7b88cb0",
   "metadata": {},
   "outputs": [
    {
     "data": {
      "text/plain": [
       "B007JFMH8M     True\n",
       "B002QWP89S     True\n",
       "B003B3OOPA     True\n",
       "B001EO5Q64     True\n",
       "B0013NUGDE     True\n",
       "              ...  \n",
       "B002DNX4GO    False\n",
       "B000FM2YU2    False\n",
       "B001M1VA32    False\n",
       "B009858H6M    False\n",
       "B001LR2CU2    False\n",
       "Name: ProductId, Length: 67624, dtype: bool"
      ]
     },
     "execution_count": 39,
     "metadata": {},
     "output_type": "execute_result"
    }
   ],
   "source": [
    "# >500\n",
    "prod_count['ProductId'] > 500"
   ]
  },
  {
   "cell_type": "code",
   "execution_count": 40,
   "id": "e73eb187",
   "metadata": {},
   "outputs": [
    {
     "data": {
      "text/html": [
       "<div>\n",
       "<style scoped>\n",
       "    .dataframe tbody tr th:only-of-type {\n",
       "        vertical-align: middle;\n",
       "    }\n",
       "\n",
       "    .dataframe tbody tr th {\n",
       "        vertical-align: top;\n",
       "    }\n",
       "\n",
       "    .dataframe thead th {\n",
       "        text-align: right;\n",
       "    }\n",
       "</style>\n",
       "<table border=\"1\" class=\"dataframe\">\n",
       "  <thead>\n",
       "    <tr style=\"text-align: right;\">\n",
       "      <th></th>\n",
       "      <th>ProductId</th>\n",
       "    </tr>\n",
       "  </thead>\n",
       "  <tbody>\n",
       "    <tr>\n",
       "      <th>B007JFMH8M</th>\n",
       "      <td>912</td>\n",
       "    </tr>\n",
       "    <tr>\n",
       "      <th>B002QWP89S</th>\n",
       "      <td>630</td>\n",
       "    </tr>\n",
       "    <tr>\n",
       "      <th>B003B3OOPA</th>\n",
       "      <td>622</td>\n",
       "    </tr>\n",
       "    <tr>\n",
       "      <th>B001EO5Q64</th>\n",
       "      <td>566</td>\n",
       "    </tr>\n",
       "    <tr>\n",
       "      <th>B0013NUGDE</th>\n",
       "      <td>558</td>\n",
       "    </tr>\n",
       "    <tr>\n",
       "      <th>B000KV61FC</th>\n",
       "      <td>556</td>\n",
       "    </tr>\n",
       "    <tr>\n",
       "      <th>B000UBD88A</th>\n",
       "      <td>542</td>\n",
       "    </tr>\n",
       "    <tr>\n",
       "      <th>B000NMJWZO</th>\n",
       "      <td>542</td>\n",
       "    </tr>\n",
       "    <tr>\n",
       "      <th>B005K4Q37A</th>\n",
       "      <td>541</td>\n",
       "    </tr>\n",
       "    <tr>\n",
       "      <th>B0090X8IPM</th>\n",
       "      <td>530</td>\n",
       "    </tr>\n",
       "    <tr>\n",
       "      <th>B005ZBZLT4</th>\n",
       "      <td>505</td>\n",
       "    </tr>\n",
       "  </tbody>\n",
       "</table>\n",
       "</div>"
      ],
      "text/plain": [
       "            ProductId\n",
       "B007JFMH8M        912\n",
       "B002QWP89S        630\n",
       "B003B3OOPA        622\n",
       "B001EO5Q64        566\n",
       "B0013NUGDE        558\n",
       "B000KV61FC        556\n",
       "B000UBD88A        542\n",
       "B000NMJWZO        542\n",
       "B005K4Q37A        541\n",
       "B0090X8IPM        530\n",
       "B005ZBZLT4        505"
      ]
     },
     "execution_count": 40,
     "metadata": {},
     "output_type": "execute_result"
    }
   ],
   "source": [
    "prod_count[prod_count['ProductId'] > 500]"
   ]
  },
  {
   "cell_type": "code",
   "execution_count": 41,
   "id": "e4980245",
   "metadata": {},
   "outputs": [],
   "source": [
    "freq_prod_ids = prod_count[prod_count['ProductId'] > 500].index"
   ]
  },
  {
   "cell_type": "code",
   "execution_count": 42,
   "id": "b1739d75",
   "metadata": {},
   "outputs": [
    {
     "data": {
      "text/plain": [
       "Index(['B007JFMH8M', 'B002QWP89S', 'B003B3OOPA', 'B001EO5Q64', 'B0013NUGDE',\n",
       "       'B000KV61FC', 'B000UBD88A', 'B000NMJWZO', 'B005K4Q37A', 'B0090X8IPM',\n",
       "       'B005ZBZLT4'],\n",
       "      dtype='object')"
      ]
     },
     "execution_count": 42,
     "metadata": {},
     "output_type": "execute_result"
    }
   ],
   "source": [
    "freq_prod_ids"
   ]
  },
  {
   "cell_type": "code",
   "execution_count": 43,
   "id": "74849873",
   "metadata": {},
   "outputs": [],
   "source": [
    "fred_prod_df = data[data['ProductId'].isin(freq_prod_ids)]"
   ]
  },
  {
   "cell_type": "code",
   "execution_count": 44,
   "id": "d423d7a1",
   "metadata": {},
   "outputs": [
    {
     "data": {
      "text/html": [
       "<div>\n",
       "<style scoped>\n",
       "    .dataframe tbody tr th:only-of-type {\n",
       "        vertical-align: middle;\n",
       "    }\n",
       "\n",
       "    .dataframe tbody tr th {\n",
       "        vertical-align: top;\n",
       "    }\n",
       "\n",
       "    .dataframe thead th {\n",
       "        text-align: right;\n",
       "    }\n",
       "</style>\n",
       "<table border=\"1\" class=\"dataframe\">\n",
       "  <thead>\n",
       "    <tr style=\"text-align: right;\">\n",
       "      <th></th>\n",
       "      <th>Id</th>\n",
       "      <th>ProductId</th>\n",
       "      <th>UserId</th>\n",
       "      <th>ProfileName</th>\n",
       "      <th>HelpfulnessNumerator</th>\n",
       "      <th>HelpfulnessDenominator</th>\n",
       "      <th>Score</th>\n",
       "      <th>Time</th>\n",
       "      <th>Summary</th>\n",
       "      <th>Text</th>\n",
       "    </tr>\n",
       "  </thead>\n",
       "  <tbody>\n",
       "    <tr>\n",
       "      <th>20982</th>\n",
       "      <td>20983</td>\n",
       "      <td>B002QWP89S</td>\n",
       "      <td>A21U4DR8M6I9QN</td>\n",
       "      <td>K. M Merrill \"justine\"</td>\n",
       "      <td>1</td>\n",
       "      <td>1</td>\n",
       "      <td>5</td>\n",
       "      <td>2011-10-18</td>\n",
       "      <td>addictive! but works for night coughing in dogs</td>\n",
       "      <td>my 12 year old sheltie has chronic brochotitis...</td>\n",
       "    </tr>\n",
       "    <tr>\n",
       "      <th>20983</th>\n",
       "      <td>20984</td>\n",
       "      <td>B002QWP89S</td>\n",
       "      <td>A17TDUBB4Z1PEC</td>\n",
       "      <td>jaded_green</td>\n",
       "      <td>1</td>\n",
       "      <td>1</td>\n",
       "      <td>5</td>\n",
       "      <td>2011-10-14</td>\n",
       "      <td>genuine Greenies best price</td>\n",
       "      <td>These are genuine Greenies product, not a knoc...</td>\n",
       "    </tr>\n",
       "    <tr>\n",
       "      <th>20984</th>\n",
       "      <td>20985</td>\n",
       "      <td>B002QWP89S</td>\n",
       "      <td>ABQH3WAWMSMBH</td>\n",
       "      <td>tenisbrat87</td>\n",
       "      <td>1</td>\n",
       "      <td>1</td>\n",
       "      <td>5</td>\n",
       "      <td>2011-09-28</td>\n",
       "      <td>Perfect for our little doggies</td>\n",
       "      <td>Our dogs love Greenies, but of course, which d...</td>\n",
       "    </tr>\n",
       "    <tr>\n",
       "      <th>20985</th>\n",
       "      <td>20986</td>\n",
       "      <td>B002QWP89S</td>\n",
       "      <td>AVTY5M74VA1BJ</td>\n",
       "      <td>tarotqueen</td>\n",
       "      <td>1</td>\n",
       "      <td>1</td>\n",
       "      <td>5</td>\n",
       "      <td>2011-09-24</td>\n",
       "      <td>dogs love greenies</td>\n",
       "      <td>What can I say, dogs love greenies. They begg ...</td>\n",
       "    </tr>\n",
       "    <tr>\n",
       "      <th>20986</th>\n",
       "      <td>20987</td>\n",
       "      <td>B002QWP89S</td>\n",
       "      <td>A13TNN54ZEAUB1</td>\n",
       "      <td>dcz2221</td>\n",
       "      <td>1</td>\n",
       "      <td>1</td>\n",
       "      <td>5</td>\n",
       "      <td>2011-09-23</td>\n",
       "      <td>Greenies review</td>\n",
       "      <td>This review is for a box of Greenies Lite for ...</td>\n",
       "    </tr>\n",
       "    <tr>\n",
       "      <th>...</th>\n",
       "      <td>...</td>\n",
       "      <td>...</td>\n",
       "      <td>...</td>\n",
       "      <td>...</td>\n",
       "      <td>...</td>\n",
       "      <td>...</td>\n",
       "      <td>...</td>\n",
       "      <td>...</td>\n",
       "      <td>...</td>\n",
       "      <td>...</td>\n",
       "    </tr>\n",
       "    <tr>\n",
       "      <th>563878</th>\n",
       "      <td>563879</td>\n",
       "      <td>B007JFMH8M</td>\n",
       "      <td>A366PSH7KFLRPB</td>\n",
       "      <td>TheRosySnail</td>\n",
       "      <td>0</td>\n",
       "      <td>0</td>\n",
       "      <td>5</td>\n",
       "      <td>2012-07-29</td>\n",
       "      <td>Yummy!</td>\n",
       "      <td>I loved these cookies and so did my kids. You ...</td>\n",
       "    </tr>\n",
       "    <tr>\n",
       "      <th>563879</th>\n",
       "      <td>563880</td>\n",
       "      <td>B007JFMH8M</td>\n",
       "      <td>A2KV6EYQPKJRR5</td>\n",
       "      <td>Kelley</td>\n",
       "      <td>0</td>\n",
       "      <td>0</td>\n",
       "      <td>5</td>\n",
       "      <td>2012-07-28</td>\n",
       "      <td>Quaker Soft Baked Cookies</td>\n",
       "      <td>This is a great tasting cookie. It is very sof...</td>\n",
       "    </tr>\n",
       "    <tr>\n",
       "      <th>563880</th>\n",
       "      <td>563881</td>\n",
       "      <td>B007JFMH8M</td>\n",
       "      <td>A3O7REI0OSV89M</td>\n",
       "      <td>Esme</td>\n",
       "      <td>0</td>\n",
       "      <td>0</td>\n",
       "      <td>4</td>\n",
       "      <td>2012-07-28</td>\n",
       "      <td>Delicious!</td>\n",
       "      <td>These are great for a quick snack! They are sa...</td>\n",
       "    </tr>\n",
       "    <tr>\n",
       "      <th>563881</th>\n",
       "      <td>563882</td>\n",
       "      <td>B007JFMH8M</td>\n",
       "      <td>A9JS5GQQ6GIQT</td>\n",
       "      <td>Syne</td>\n",
       "      <td>0</td>\n",
       "      <td>0</td>\n",
       "      <td>5</td>\n",
       "      <td>2012-07-28</td>\n",
       "      <td>yummy</td>\n",
       "      <td>I love the Quaker soft baked cookies.  The rea...</td>\n",
       "    </tr>\n",
       "    <tr>\n",
       "      <th>563882</th>\n",
       "      <td>563883</td>\n",
       "      <td>B007JFMH8M</td>\n",
       "      <td>AMAVEZAGCH52H</td>\n",
       "      <td>Tangela</td>\n",
       "      <td>0</td>\n",
       "      <td>0</td>\n",
       "      <td>5</td>\n",
       "      <td>2012-07-28</td>\n",
       "      <td>Quaker Soft Baked Cookie</td>\n",
       "      <td>This cookie is really good and works really we...</td>\n",
       "    </tr>\n",
       "  </tbody>\n",
       "</table>\n",
       "<p>6504 rows × 10 columns</p>\n",
       "</div>"
      ],
      "text/plain": [
       "            Id   ProductId          UserId             ProfileName  \\\n",
       "20982    20983  B002QWP89S  A21U4DR8M6I9QN  K. M Merrill \"justine\"   \n",
       "20983    20984  B002QWP89S  A17TDUBB4Z1PEC             jaded_green   \n",
       "20984    20985  B002QWP89S   ABQH3WAWMSMBH             tenisbrat87   \n",
       "20985    20986  B002QWP89S   AVTY5M74VA1BJ              tarotqueen   \n",
       "20986    20987  B002QWP89S  A13TNN54ZEAUB1                 dcz2221   \n",
       "...        ...         ...             ...                     ...   \n",
       "563878  563879  B007JFMH8M  A366PSH7KFLRPB            TheRosySnail   \n",
       "563879  563880  B007JFMH8M  A2KV6EYQPKJRR5                  Kelley   \n",
       "563880  563881  B007JFMH8M  A3O7REI0OSV89M                    Esme   \n",
       "563881  563882  B007JFMH8M   A9JS5GQQ6GIQT                    Syne   \n",
       "563882  563883  B007JFMH8M   AMAVEZAGCH52H                 Tangela   \n",
       "\n",
       "        HelpfulnessNumerator  HelpfulnessDenominator  Score       Time  \\\n",
       "20982                      1                       1      5 2011-10-18   \n",
       "20983                      1                       1      5 2011-10-14   \n",
       "20984                      1                       1      5 2011-09-28   \n",
       "20985                      1                       1      5 2011-09-24   \n",
       "20986                      1                       1      5 2011-09-23   \n",
       "...                      ...                     ...    ...        ...   \n",
       "563878                     0                       0      5 2012-07-29   \n",
       "563879                     0                       0      5 2012-07-28   \n",
       "563880                     0                       0      4 2012-07-28   \n",
       "563881                     0                       0      5 2012-07-28   \n",
       "563882                     0                       0      5 2012-07-28   \n",
       "\n",
       "                                                Summary  \\\n",
       "20982   addictive! but works for night coughing in dogs   \n",
       "20983                       genuine Greenies best price   \n",
       "20984                    Perfect for our little doggies   \n",
       "20985                                dogs love greenies   \n",
       "20986                                   Greenies review   \n",
       "...                                                 ...   \n",
       "563878                                           Yummy!   \n",
       "563879                        Quaker Soft Baked Cookies   \n",
       "563880                                       Delicious!   \n",
       "563881                                            yummy   \n",
       "563882                         Quaker Soft Baked Cookie   \n",
       "\n",
       "                                                     Text  \n",
       "20982   my 12 year old sheltie has chronic brochotitis...  \n",
       "20983   These are genuine Greenies product, not a knoc...  \n",
       "20984   Our dogs love Greenies, but of course, which d...  \n",
       "20985   What can I say, dogs love greenies. They begg ...  \n",
       "20986   This review is for a box of Greenies Lite for ...  \n",
       "...                                                   ...  \n",
       "563878  I loved these cookies and so did my kids. You ...  \n",
       "563879  This is a great tasting cookie. It is very sof...  \n",
       "563880  These are great for a quick snack! They are sa...  \n",
       "563881  I love the Quaker soft baked cookies.  The rea...  \n",
       "563882  This cookie is really good and works really we...  \n",
       "\n",
       "[6504 rows x 10 columns]"
      ]
     },
     "execution_count": 44,
     "metadata": {},
     "output_type": "execute_result"
    }
   ],
   "source": [
    "fred_prod_df"
   ]
  },
  {
   "cell_type": "code",
   "execution_count": 45,
   "id": "4655f240",
   "metadata": {},
   "outputs": [
    {
     "data": {
      "text/plain": [
       "Index(['Id', 'ProductId', 'UserId', 'ProfileName', 'HelpfulnessNumerator',\n",
       "       'HelpfulnessDenominator', 'Score', 'Time', 'Summary', 'Text'],\n",
       "      dtype='object')"
      ]
     },
     "execution_count": 45,
     "metadata": {},
     "output_type": "execute_result"
    }
   ],
   "source": [
    "fred_prod_df.columns"
   ]
  },
  {
   "cell_type": "code",
   "execution_count": 46,
   "id": "27fbb143",
   "metadata": {},
   "outputs": [
    {
     "data": {
      "text/plain": [
       "<AxesSubplot:xlabel='count', ylabel='ProductId'>"
      ]
     },
     "execution_count": 46,
     "metadata": {},
     "output_type": "execute_result"
    },
    {
     "data": {
      "image/png": "[encoded data removed]",
      "text/plain": [
       "<Figure size 432x288 with 1 Axes>"
      ]
     },
     "metadata": {
      "needs_background": "light"
     },
     "output_type": "display_data"
    }
   ],
   "source": [
    "sns.countplot(y = 'ProductId', data = fred_prod_df, hue = 'Score')"
   ]
  },
  {
   "cell_type": "markdown",
   "id": "e5e111ee",
   "metadata": {},
   "source": [
    "# Is there any difference between behavior of frequent viewers and not frequent viewers "
   ]
  },
  {
   "cell_type": "code",
   "execution_count": 47,
   "id": "b1b4a459",
   "metadata": {},
   "outputs": [
    {
     "data": {
      "text/plain": [
       "Index(['Id', 'ProductId', 'UserId', 'ProfileName', 'HelpfulnessNumerator',\n",
       "       'HelpfulnessDenominator', 'Score', 'Time', 'Summary', 'Text'],\n",
       "      dtype='object')"
      ]
     },
     "execution_count": 47,
     "metadata": {},
     "output_type": "execute_result"
    }
   ],
   "source": [
    "data.columns"
   ]
  },
  {
   "cell_type": "code",
   "execution_count": 48,
   "id": "a6164ce3",
   "metadata": {},
   "outputs": [],
   "source": [
    "x = data['UserId'].value_counts()\n",
    "#mapping users to number of items bought"
   ]
  },
  {
   "cell_type": "code",
   "execution_count": 49,
   "id": "bb852de5",
   "metadata": {},
   "outputs": [
    {
     "data": {
      "text/plain": [
       "AY12DBB0U420B     329\n",
       "A3OXHLG6DIBRW8    278\n",
       "A281NPSIMI1C2R    259\n",
       "A1YUL9PCJR3JTY    214\n",
       "A1Z54EM24Y40LL    211\n",
       "                 ... \n",
       "AAQPR1MSRXKTU       1\n",
       "AGO81Z6PZSF7P       1\n",
       "ALA84XWMTQBFT       1\n",
       "A1G9DK8EUR36JC      1\n",
       "A3LGQPJCZVL9UC      1\n",
       "Name: UserId, Length: 256059, dtype: int64"
      ]
     },
     "execution_count": 49,
     "metadata": {},
     "output_type": "execute_result"
    }
   ],
   "source": [
    "x"
   ]
  },
  {
   "cell_type": "code",
   "execution_count": 50,
   "id": "35d99540",
   "metadata": {},
   "outputs": [],
   "source": [
    "data['viewer_type'] = data['UserId'].apply(lambda user : \"Frequent\" if x[user]>50 else \"Not Frequent\")"
   ]
  },
  {
   "cell_type": "code",
   "execution_count": 51,
   "id": "eb803434",
   "metadata": {},
   "outputs": [
    {
     "data": {
      "text/html": [
       "<div>\n",
       "<style scoped>\n",
       "    .dataframe tbody tr th:only-of-type {\n",
       "        vertical-align: middle;\n",
       "    }\n",
       "\n",
       "    .dataframe tbody tr th {\n",
       "        vertical-align: top;\n",
       "    }\n",
       "\n",
       "    .dataframe thead th {\n",
       "        text-align: right;\n",
       "    }\n",
       "</style>\n",
       "<table border=\"1\" class=\"dataframe\">\n",
       "  <thead>\n",
       "    <tr style=\"text-align: right;\">\n",
       "      <th></th>\n",
       "      <th>Id</th>\n",
       "      <th>ProductId</th>\n",
       "      <th>UserId</th>\n",
       "      <th>ProfileName</th>\n",
       "      <th>HelpfulnessNumerator</th>\n",
       "      <th>HelpfulnessDenominator</th>\n",
       "      <th>Score</th>\n",
       "      <th>Time</th>\n",
       "      <th>Summary</th>\n",
       "      <th>Text</th>\n",
       "      <th>viewer_type</th>\n",
       "    </tr>\n",
       "  </thead>\n",
       "  <tbody>\n",
       "    <tr>\n",
       "      <th>0</th>\n",
       "      <td>1</td>\n",
       "      <td>B001E4KFG0</td>\n",
       "      <td>A3SGXH7AUHU8GW</td>\n",
       "      <td>delmartian</td>\n",
       "      <td>1</td>\n",
       "      <td>1</td>\n",
       "      <td>5</td>\n",
       "      <td>2011-04-27</td>\n",
       "      <td>Good Quality Dog Food</td>\n",
       "      <td>I have bought several of the Vitality canned d...</td>\n",
       "      <td>Not Frequent</td>\n",
       "    </tr>\n",
       "    <tr>\n",
       "      <th>1</th>\n",
       "      <td>2</td>\n",
       "      <td>B00813GRG4</td>\n",
       "      <td>A1D87F6ZCVE5NK</td>\n",
       "      <td>dll pa</td>\n",
       "      <td>0</td>\n",
       "      <td>0</td>\n",
       "      <td>1</td>\n",
       "      <td>2012-09-07</td>\n",
       "      <td>Not as Advertised</td>\n",
       "      <td>Product arrived labeled as Jumbo Salted Peanut...</td>\n",
       "      <td>Not Frequent</td>\n",
       "    </tr>\n",
       "    <tr>\n",
       "      <th>2</th>\n",
       "      <td>3</td>\n",
       "      <td>B000LQOCH0</td>\n",
       "      <td>ABXLMWJIXXAIN</td>\n",
       "      <td>Natalia Corres \"Natalia Corres\"</td>\n",
       "      <td>1</td>\n",
       "      <td>1</td>\n",
       "      <td>4</td>\n",
       "      <td>2008-08-18</td>\n",
       "      <td>\"Delight\" says it all</td>\n",
       "      <td>This is a confection that has been around a fe...</td>\n",
       "      <td>Not Frequent</td>\n",
       "    </tr>\n",
       "    <tr>\n",
       "      <th>3</th>\n",
       "      <td>4</td>\n",
       "      <td>B000UA0QIQ</td>\n",
       "      <td>A395BORC6FGVXV</td>\n",
       "      <td>Karl</td>\n",
       "      <td>3</td>\n",
       "      <td>3</td>\n",
       "      <td>2</td>\n",
       "      <td>2011-06-13</td>\n",
       "      <td>Cough Medicine</td>\n",
       "      <td>If you are looking for the secret ingredient i...</td>\n",
       "      <td>Not Frequent</td>\n",
       "    </tr>\n",
       "    <tr>\n",
       "      <th>4</th>\n",
       "      <td>5</td>\n",
       "      <td>B006K2ZZ7K</td>\n",
       "      <td>A1UQRSCLF8GW1T</td>\n",
       "      <td>Michael D. Bigham \"M. Wassir\"</td>\n",
       "      <td>0</td>\n",
       "      <td>0</td>\n",
       "      <td>5</td>\n",
       "      <td>2012-10-21</td>\n",
       "      <td>Great taffy</td>\n",
       "      <td>Great taffy at a great price.  There was a wid...</td>\n",
       "      <td>Not Frequent</td>\n",
       "    </tr>\n",
       "    <tr>\n",
       "      <th>...</th>\n",
       "      <td>...</td>\n",
       "      <td>...</td>\n",
       "      <td>...</td>\n",
       "      <td>...</td>\n",
       "      <td>...</td>\n",
       "      <td>...</td>\n",
       "      <td>...</td>\n",
       "      <td>...</td>\n",
       "      <td>...</td>\n",
       "      <td>...</td>\n",
       "      <td>...</td>\n",
       "    </tr>\n",
       "    <tr>\n",
       "      <th>568449</th>\n",
       "      <td>568450</td>\n",
       "      <td>B001EO7N10</td>\n",
       "      <td>A28KG5XORO54AY</td>\n",
       "      <td>Lettie D. Carter</td>\n",
       "      <td>0</td>\n",
       "      <td>0</td>\n",
       "      <td>5</td>\n",
       "      <td>2011-03-09</td>\n",
       "      <td>Will not do without</td>\n",
       "      <td>Great for sesame chicken..this is a good if no...</td>\n",
       "      <td>Not Frequent</td>\n",
       "    </tr>\n",
       "    <tr>\n",
       "      <th>568450</th>\n",
       "      <td>568451</td>\n",
       "      <td>B003S1WTCU</td>\n",
       "      <td>A3I8AFVPEE8KI5</td>\n",
       "      <td>R. Sawyer</td>\n",
       "      <td>0</td>\n",
       "      <td>0</td>\n",
       "      <td>2</td>\n",
       "      <td>2012-03-09</td>\n",
       "      <td>disappointed</td>\n",
       "      <td>I'm disappointed with the flavor. The chocolat...</td>\n",
       "      <td>Not Frequent</td>\n",
       "    </tr>\n",
       "    <tr>\n",
       "      <th>568451</th>\n",
       "      <td>568452</td>\n",
       "      <td>B004I613EE</td>\n",
       "      <td>A121AA1GQV751Z</td>\n",
       "      <td>pksd \"pk_007\"</td>\n",
       "      <td>2</td>\n",
       "      <td>2</td>\n",
       "      <td>5</td>\n",
       "      <td>2012-02-21</td>\n",
       "      <td>Perfect for our maltipoo</td>\n",
       "      <td>These stars are small, so you can give 10-15 o...</td>\n",
       "      <td>Not Frequent</td>\n",
       "    </tr>\n",
       "    <tr>\n",
       "      <th>568452</th>\n",
       "      <td>568453</td>\n",
       "      <td>B004I613EE</td>\n",
       "      <td>A3IBEVCTXKNOH</td>\n",
       "      <td>Kathy A. Welch \"katwel\"</td>\n",
       "      <td>1</td>\n",
       "      <td>1</td>\n",
       "      <td>5</td>\n",
       "      <td>2012-03-13</td>\n",
       "      <td>Favorite Training and reward treat</td>\n",
       "      <td>These are the BEST treats for training and rew...</td>\n",
       "      <td>Not Frequent</td>\n",
       "    </tr>\n",
       "    <tr>\n",
       "      <th>568453</th>\n",
       "      <td>568454</td>\n",
       "      <td>B001LR2CU2</td>\n",
       "      <td>A3LGQPJCZVL9UC</td>\n",
       "      <td>srfell17</td>\n",
       "      <td>0</td>\n",
       "      <td>0</td>\n",
       "      <td>5</td>\n",
       "      <td>2012-05-31</td>\n",
       "      <td>Great Honey</td>\n",
       "      <td>I am very satisfied ,product is as advertised,...</td>\n",
       "      <td>Not Frequent</td>\n",
       "    </tr>\n",
       "  </tbody>\n",
       "</table>\n",
       "<p>393931 rows × 11 columns</p>\n",
       "</div>"
      ],
      "text/plain": [
       "            Id   ProductId          UserId                      ProfileName  \\\n",
       "0            1  B001E4KFG0  A3SGXH7AUHU8GW                       delmartian   \n",
       "1            2  B00813GRG4  A1D87F6ZCVE5NK                           dll pa   \n",
       "2            3  B000LQOCH0   ABXLMWJIXXAIN  Natalia Corres \"Natalia Corres\"   \n",
       "3            4  B000UA0QIQ  A395BORC6FGVXV                             Karl   \n",
       "4            5  B006K2ZZ7K  A1UQRSCLF8GW1T    Michael D. Bigham \"M. Wassir\"   \n",
       "...        ...         ...             ...                              ...   \n",
       "568449  568450  B001EO7N10  A28KG5XORO54AY                 Lettie D. Carter   \n",
       "568450  568451  B003S1WTCU  A3I8AFVPEE8KI5                        R. Sawyer   \n",
       "568451  568452  B004I613EE  A121AA1GQV751Z                    pksd \"pk_007\"   \n",
       "568452  568453  B004I613EE   A3IBEVCTXKNOH          Kathy A. Welch \"katwel\"   \n",
       "568453  568454  B001LR2CU2  A3LGQPJCZVL9UC                         srfell17   \n",
       "\n",
       "        HelpfulnessNumerator  HelpfulnessDenominator  Score       Time  \\\n",
       "0                          1                       1      5 2011-04-27   \n",
       "1                          0                       0      1 2012-09-07   \n",
       "2                          1                       1      4 2008-08-18   \n",
       "3                          3                       3      2 2011-06-13   \n",
       "4                          0                       0      5 2012-10-21   \n",
       "...                      ...                     ...    ...        ...   \n",
       "568449                     0                       0      5 2011-03-09   \n",
       "568450                     0                       0      2 2012-03-09   \n",
       "568451                     2                       2      5 2012-02-21   \n",
       "568452                     1                       1      5 2012-03-13   \n",
       "568453                     0                       0      5 2012-05-31   \n",
       "\n",
       "                                   Summary  \\\n",
       "0                    Good Quality Dog Food   \n",
       "1                        Not as Advertised   \n",
       "2                    \"Delight\" says it all   \n",
       "3                           Cough Medicine   \n",
       "4                              Great taffy   \n",
       "...                                    ...   \n",
       "568449                 Will not do without   \n",
       "568450                        disappointed   \n",
       "568451            Perfect for our maltipoo   \n",
       "568452  Favorite Training and reward treat   \n",
       "568453                         Great Honey   \n",
       "\n",
       "                                                     Text   viewer_type  \n",
       "0       I have bought several of the Vitality canned d...  Not Frequent  \n",
       "1       Product arrived labeled as Jumbo Salted Peanut...  Not Frequent  \n",
       "2       This is a confection that has been around a fe...  Not Frequent  \n",
       "3       If you are looking for the secret ingredient i...  Not Frequent  \n",
       "4       Great taffy at a great price.  There was a wid...  Not Frequent  \n",
       "...                                                   ...           ...  \n",
       "568449  Great for sesame chicken..this is a good if no...  Not Frequent  \n",
       "568450  I'm disappointed with the flavor. The chocolat...  Not Frequent  \n",
       "568451  These stars are small, so you can give 10-15 o...  Not Frequent  \n",
       "568452  These are the BEST treats for training and rew...  Not Frequent  \n",
       "568453  I am very satisfied ,product is as advertised,...  Not Frequent  \n",
       "\n",
       "[393931 rows x 11 columns]"
      ]
     },
     "execution_count": 51,
     "metadata": {},
     "output_type": "execute_result"
    }
   ],
   "source": [
    "data"
   ]
  },
  {
   "cell_type": "code",
   "execution_count": 52,
   "id": "04c1cc41",
   "metadata": {},
   "outputs": [
    {
     "data": {
      "text/plain": [
       "0         True\n",
       "1         True\n",
       "2         True\n",
       "3         True\n",
       "4         True\n",
       "          ... \n",
       "568449    True\n",
       "568450    True\n",
       "568451    True\n",
       "568452    True\n",
       "568453    True\n",
       "Name: viewer_type, Length: 393931, dtype: bool"
      ]
     },
     "execution_count": 52,
     "metadata": {},
     "output_type": "execute_result"
    }
   ],
   "source": [
    "data['viewer_type'] == 'Not Frequent'"
   ]
  },
  {
   "cell_type": "code",
   "execution_count": 53,
   "id": "8f9cf088",
   "metadata": {},
   "outputs": [],
   "source": [
    "not_freq_df = data[data['viewer_type'] == 'Not Frequent']\n",
    "freq_df = data[data['viewer_type'] == 'Frequent']"
   ]
  },
  {
   "cell_type": "code",
   "execution_count": 54,
   "id": "8be3eb6e",
   "metadata": {},
   "outputs": [
    {
     "data": {
      "text/plain": [
       "5    5765\n",
       "4    1979\n",
       "3     897\n",
       "2     368\n",
       "1     349\n",
       "Name: Score, dtype: int64"
      ]
     },
     "execution_count": 54,
     "metadata": {},
     "output_type": "execute_result"
    }
   ],
   "source": [
    "freq_df['Score'].value_counts()"
   ]
  },
  {
   "cell_type": "code",
   "execution_count": 55,
   "id": "25f394b9",
   "metadata": {},
   "outputs": [
    {
     "data": {
      "text/plain": [
       "5    61.605044\n",
       "4    21.147681\n",
       "3     9.585381\n",
       "2     3.932464\n",
       "1     3.729429\n",
       "Name: Score, dtype: float64"
      ]
     },
     "execution_count": 55,
     "metadata": {},
     "output_type": "execute_result"
    }
   ],
   "source": [
    "#convert to %\n",
    "freq_df['Score'].value_counts()/len(freq_df) *100"
   ]
  },
  {
   "cell_type": "code",
   "execution_count": 56,
   "id": "840f4302",
   "metadata": {},
   "outputs": [
    {
     "data": {
      "text/plain": [
       "<AxesSubplot:>"
      ]
     },
     "execution_count": 56,
     "metadata": {},
     "output_type": "execute_result"
    },
    {
     "data": {
      "image/png": "[encoded data removed]",
      "text/plain": [
       "<Figure size 432x288 with 1 Axes>"
      ]
     },
     "metadata": {
      "needs_background": "light"
     },
     "output_type": "display_data"
    }
   ],
   "source": [
    "freq_df['Score'].value_counts().plot(kind = 'bar')"
   ]
  },
  {
   "cell_type": "code",
   "execution_count": 57,
   "id": "0edfafce",
   "metadata": {},
   "outputs": [
    {
     "data": {
      "text/plain": [
       "5    245196\n",
       "4     54114\n",
       "1     35957\n",
       "3     28872\n",
       "2     20434\n",
       "Name: Score, dtype: int64"
      ]
     },
     "execution_count": 57,
     "metadata": {},
     "output_type": "execute_result"
    }
   ],
   "source": [
    "not_freq_df['Score'].value_counts()"
   ]
  },
  {
   "cell_type": "code",
   "execution_count": 58,
   "id": "13fcc516",
   "metadata": {},
   "outputs": [
    {
     "data": {
      "text/plain": [
       "5    63.757986\n",
       "4    14.071191\n",
       "1     9.349850\n",
       "3     7.507547\n",
       "2     5.313426\n",
       "Name: Score, dtype: float64"
      ]
     },
     "execution_count": 58,
     "metadata": {},
     "output_type": "execute_result"
    }
   ],
   "source": [
    "#convert to %\n",
    "not_freq_df['Score'].value_counts()/len(not_freq_df) *100"
   ]
  },
  {
   "cell_type": "code",
   "execution_count": 59,
   "id": "582b2853",
   "metadata": {},
   "outputs": [
    {
     "data": {
      "text/plain": [
       "<AxesSubplot:>"
      ]
     },
     "execution_count": 59,
     "metadata": {},
     "output_type": "execute_result"
    },
    {
     "data": {
      "image/png": "[encoded data removed]",
      "text/plain": [
       "<Figure size 432x288 with 1 Axes>"
      ]
     },
     "metadata": {
      "needs_background": "light"
     },
     "output_type": "display_data"
    }
   ],
   "source": [
    "not_freq_df['Score'].value_counts().plot(kind = 'bar')"
   ]
  },
  {
   "cell_type": "markdown",
   "id": "0fdd0d40",
   "metadata": {},
   "source": [
    "# Are frequent users more verbose"
   ]
  },
  {
   "cell_type": "code",
   "execution_count": 60,
   "id": "c605f5b5",
   "metadata": {},
   "outputs": [
    {
     "data": {
      "text/plain": [
       "Index(['Id', 'ProductId', 'UserId', 'ProfileName', 'HelpfulnessNumerator',\n",
       "       'HelpfulnessDenominator', 'Score', 'Time', 'Summary', 'Text',\n",
       "       'viewer_type'],\n",
       "      dtype='object')"
      ]
     },
     "execution_count": 60,
     "metadata": {},
     "output_type": "execute_result"
    }
   ],
   "source": [
    "data.columns"
   ]
  },
  {
   "cell_type": "code",
   "execution_count": 61,
   "id": "2d5ab3ed",
   "metadata": {},
   "outputs": [
    {
     "data": {
      "text/plain": [
       "0         I have bought several of the Vitality canned d...\n",
       "1         Product arrived labeled as Jumbo Salted Peanut...\n",
       "2         This is a confection that has been around a fe...\n",
       "3         If you are looking for the secret ingredient i...\n",
       "4         Great taffy at a great price.  There was a wid...\n",
       "                                ...                        \n",
       "568449    Great for sesame chicken..this is a good if no...\n",
       "568450    I'm disappointed with the flavor. The chocolat...\n",
       "568451    These stars are small, so you can give 10-15 o...\n",
       "568452    These are the BEST treats for training and rew...\n",
       "568453    I am very satisfied ,product is as advertised,...\n",
       "Name: Text, Length: 393931, dtype: object"
      ]
     },
     "execution_count": 61,
     "metadata": {},
     "output_type": "execute_result"
    }
   ],
   "source": [
    "data['Text']"
   ]
  },
  {
   "cell_type": "code",
   "execution_count": 62,
   "id": "cb0235b6",
   "metadata": {},
   "outputs": [
    {
     "data": {
      "text/html": [
       "<div>\n",
       "<style scoped>\n",
       "    .dataframe tbody tr th:only-of-type {\n",
       "        vertical-align: middle;\n",
       "    }\n",
       "\n",
       "    .dataframe tbody tr th {\n",
       "        vertical-align: top;\n",
       "    }\n",
       "\n",
       "    .dataframe thead th {\n",
       "        text-align: right;\n",
       "    }\n",
       "</style>\n",
       "<table border=\"1\" class=\"dataframe\">\n",
       "  <thead>\n",
       "    <tr style=\"text-align: right;\">\n",
       "      <th></th>\n",
       "      <th>UserId</th>\n",
       "      <th>ProductId</th>\n",
       "      <th>Text</th>\n",
       "    </tr>\n",
       "  </thead>\n",
       "  <tbody>\n",
       "    <tr>\n",
       "      <th>0</th>\n",
       "      <td>A3SGXH7AUHU8GW</td>\n",
       "      <td>B001E4KFG0</td>\n",
       "      <td>I have bought several of the Vitality canned d...</td>\n",
       "    </tr>\n",
       "    <tr>\n",
       "      <th>1</th>\n",
       "      <td>A1D87F6ZCVE5NK</td>\n",
       "      <td>B00813GRG4</td>\n",
       "      <td>Product arrived labeled as Jumbo Salted Peanut...</td>\n",
       "    </tr>\n",
       "    <tr>\n",
       "      <th>2</th>\n",
       "      <td>ABXLMWJIXXAIN</td>\n",
       "      <td>B000LQOCH0</td>\n",
       "      <td>This is a confection that has been around a fe...</td>\n",
       "    </tr>\n",
       "    <tr>\n",
       "      <th>3</th>\n",
       "      <td>A395BORC6FGVXV</td>\n",
       "      <td>B000UA0QIQ</td>\n",
       "      <td>If you are looking for the secret ingredient i...</td>\n",
       "    </tr>\n",
       "    <tr>\n",
       "      <th>4</th>\n",
       "      <td>A1UQRSCLF8GW1T</td>\n",
       "      <td>B006K2ZZ7K</td>\n",
       "      <td>Great taffy at a great price.  There was a wid...</td>\n",
       "    </tr>\n",
       "    <tr>\n",
       "      <th>...</th>\n",
       "      <td>...</td>\n",
       "      <td>...</td>\n",
       "      <td>...</td>\n",
       "    </tr>\n",
       "    <tr>\n",
       "      <th>568449</th>\n",
       "      <td>A28KG5XORO54AY</td>\n",
       "      <td>B001EO7N10</td>\n",
       "      <td>Great for sesame chicken..this is a good if no...</td>\n",
       "    </tr>\n",
       "    <tr>\n",
       "      <th>568450</th>\n",
       "      <td>A3I8AFVPEE8KI5</td>\n",
       "      <td>B003S1WTCU</td>\n",
       "      <td>I'm disappointed with the flavor. The chocolat...</td>\n",
       "    </tr>\n",
       "    <tr>\n",
       "      <th>568451</th>\n",
       "      <td>A121AA1GQV751Z</td>\n",
       "      <td>B004I613EE</td>\n",
       "      <td>These stars are small, so you can give 10-15 o...</td>\n",
       "    </tr>\n",
       "    <tr>\n",
       "      <th>568452</th>\n",
       "      <td>A3IBEVCTXKNOH</td>\n",
       "      <td>B004I613EE</td>\n",
       "      <td>These are the BEST treats for training and rew...</td>\n",
       "    </tr>\n",
       "    <tr>\n",
       "      <th>568453</th>\n",
       "      <td>A3LGQPJCZVL9UC</td>\n",
       "      <td>B001LR2CU2</td>\n",
       "      <td>I am very satisfied ,product is as advertised,...</td>\n",
       "    </tr>\n",
       "  </tbody>\n",
       "</table>\n",
       "<p>393931 rows × 3 columns</p>\n",
       "</div>"
      ],
      "text/plain": [
       "                UserId   ProductId  \\\n",
       "0       A3SGXH7AUHU8GW  B001E4KFG0   \n",
       "1       A1D87F6ZCVE5NK  B00813GRG4   \n",
       "2        ABXLMWJIXXAIN  B000LQOCH0   \n",
       "3       A395BORC6FGVXV  B000UA0QIQ   \n",
       "4       A1UQRSCLF8GW1T  B006K2ZZ7K   \n",
       "...                ...         ...   \n",
       "568449  A28KG5XORO54AY  B001EO7N10   \n",
       "568450  A3I8AFVPEE8KI5  B003S1WTCU   \n",
       "568451  A121AA1GQV751Z  B004I613EE   \n",
       "568452   A3IBEVCTXKNOH  B004I613EE   \n",
       "568453  A3LGQPJCZVL9UC  B001LR2CU2   \n",
       "\n",
       "                                                     Text  \n",
       "0       I have bought several of the Vitality canned d...  \n",
       "1       Product arrived labeled as Jumbo Salted Peanut...  \n",
       "2       This is a confection that has been around a fe...  \n",
       "3       If you are looking for the secret ingredient i...  \n",
       "4       Great taffy at a great price.  There was a wid...  \n",
       "...                                                   ...  \n",
       "568449  Great for sesame chicken..this is a good if no...  \n",
       "568450  I'm disappointed with the flavor. The chocolat...  \n",
       "568451  These stars are small, so you can give 10-15 o...  \n",
       "568452  These are the BEST treats for training and rew...  \n",
       "568453  I am very satisfied ,product is as advertised,...  \n",
       "\n",
       "[393931 rows x 3 columns]"
      ]
     },
     "execution_count": 62,
     "metadata": {},
     "output_type": "execute_result"
    }
   ],
   "source": [
    "data[['UserId','ProductId', 'Text']]"
   ]
  },
  {
   "cell_type": "code",
   "execution_count": 63,
   "id": "a7fc0abf",
   "metadata": {},
   "outputs": [],
   "source": [
    "# to see how verbose are frequent and non-frequent viewers"
   ]
  },
  {
   "cell_type": "code",
   "execution_count": 64,
   "id": "f5f4d4ce",
   "metadata": {},
   "outputs": [],
   "source": [
    "#box - gives the distribution; gives 25,50,75 percentile"
   ]
  },
  {
   "cell_type": "code",
   "execution_count": 66,
   "id": "9e887cbd",
   "metadata": {},
   "outputs": [
    {
     "data": {
      "text/plain": [
       "'I have bought several of the Vitality canned dog food products and have found them all to be of good quality. The product looks more like a stew than a processed meat and it smells better. My Labrador is finicky and she appreciates this product better than  most.'"
      ]
     },
     "execution_count": 66,
     "metadata": {},
     "output_type": "execute_result"
    }
   ],
   "source": [
    "#getting the length -> convert to list\n",
    "data['Text'][0]"
   ]
  },
  {
   "cell_type": "code",
   "execution_count": 68,
   "id": "137ef234",
   "metadata": {},
   "outputs": [
    {
     "name": "stdout",
     "output_type": "stream",
     "text": [
      "['I', 'have', 'bought', 'several', 'of', 'the', 'Vitality', 'canned', 'dog', 'food', 'products', 'and', 'have', 'found', 'them', 'all', 'to', 'be', 'of', 'good', 'quality.', 'The', 'product', 'looks', 'more', 'like', 'a', 'stew', 'than', 'a', 'processed', 'meat', 'and', 'it', 'smells', 'better.', 'My', 'Labrador', 'is', 'finicky', 'and', 'she', 'appreciates', 'this', 'product', 'better', 'than', '', 'most.']\n",
      "49\n"
     ]
    }
   ],
   "source": [
    "#list\n",
    "print(data['Text'][0].split(' '))\n",
    "print(len(data['Text'][0].split(' ')))\n"
   ]
  },
  {
   "cell_type": "code",
   "execution_count": 76,
   "id": "989be563",
   "metadata": {},
   "outputs": [],
   "source": [
    "#function to get length for all\n",
    "def calc_len(text):\n",
    "    return len(text.split(' '))\n",
    "    \n",
    "\n",
    "data['Text_Len'] = data['Text'].apply(calc_len)"
   ]
  },
  {
   "cell_type": "code",
   "execution_count": null,
   "id": "7291d3c2",
   "metadata": {},
   "outputs": [],
   "source": []
  },
  {
   "cell_type": "code",
   "execution_count": 77,
   "id": "8ac58d3e",
   "metadata": {},
   "outputs": [
    {
     "data": {
      "text/plain": [
       "array(['Not Frequent', 'Frequent'], dtype=object)"
      ]
     },
     "execution_count": 77,
     "metadata": {},
     "output_type": "execute_result"
    }
   ],
   "source": [
    "data['viewer_type'].unique()"
   ]
  },
  {
   "cell_type": "code",
   "execution_count": 81,
   "id": "becd8850",
   "metadata": {},
   "outputs": [],
   "source": [
    "non_freq_data = data[data['viewer_type'] == 'Not Frequent']\n",
    "freq_data = data[data['viewer_type'] == 'Frequent']"
   ]
  },
  {
   "cell_type": "code",
   "execution_count": 90,
   "id": "771fe874",
   "metadata": {},
   "outputs": [
    {
     "data": {
      "text/plain": [
       "(0.0, 600.0)"
      ]
     },
     "execution_count": 90,
     "metadata": {},
     "output_type": "execute_result"
    },
    {
     "data": {
      "image/png": "[encoded data removed]",
      "text/plain": [
       "<Figure size 432x288 with 2 Axes>"
      ]
     },
     "metadata": {
      "needs_background": "light"
     },
     "output_type": "display_data"
    }
   ],
   "source": [
    "fig = plt.figure()\n",
    "\n",
    "ax1 = fig.add_subplot(121)\n",
    "ax1.boxplot(freq_data['Text_Len'])\n",
    "ax1.set_xlabel('Frequency of frequent viewers')\n",
    "ax1.set_ylim(0,600)\n",
    "\n",
    "ax2 = fig.add_subplot(122)\n",
    "ax2.boxplot(non_freq_data['Text_Len'])\n",
    "ax2.set_xlabel('Frequency of not frequent viewers')\n",
    "ax2.set_ylim(0,600)"
   ]
  },
  {
   "cell_type": "markdown",
   "id": "0f7fb5e1",
   "metadata": {},
   "source": [
    "# sentiment analysis"
   ]
  },
  {
   "cell_type": "code",
   "execution_count": 91,
   "id": "4423fcbc",
   "metadata": {},
   "outputs": [],
   "source": [
    "# analysing the sentiment; +ve/-ve/neutral sentiments"
   ]
  },
  {
   "cell_type": "code",
   "execution_count": 95,
   "id": "690c2d87",
   "metadata": {},
   "outputs": [
    {
     "name": "stdout",
     "output_type": "stream",
     "text": [
      "Requirement already satisfied: textblob in c:\\users\\college\\anaconda3\\lib\\site-packages (0.18.0.post0)\n",
      "Requirement already satisfied: nltk>=3.8 in c:\\users\\college\\anaconda3\\lib\\site-packages (from textblob) (3.8.1)\n",
      "Requirement already satisfied: regex>=2021.8.3 in c:\\users\\college\\anaconda3\\lib\\site-packages (from nltk>=3.8->textblob) (2021.8.3)\n",
      "Requirement already satisfied: tqdm in c:\\users\\college\\anaconda3\\lib\\site-packages (from nltk>=3.8->textblob) (4.62.3)\n",
      "Requirement already satisfied: click in c:\\users\\college\\anaconda3\\lib\\site-packages (from nltk>=3.8->textblob) (8.0.3)\n",
      "Requirement already satisfied: joblib in c:\\users\\college\\anaconda3\\lib\\site-packages (from nltk>=3.8->textblob) (1.2.0)\n",
      "Requirement already satisfied: colorama in c:\\users\\college\\anaconda3\\lib\\site-packages (from click->nltk>=3.8->textblob) (0.4.4)\n"
     ]
    }
   ],
   "source": [
    "!pip install textblob"
   ]
  },
  {
   "cell_type": "code",
   "execution_count": 98,
   "id": "d62a9823",
   "metadata": {},
   "outputs": [
    {
     "name": "stdout",
     "output_type": "stream",
     "text": [
      "Note: you may need to restart the kernel to use updated packages.\n"
     ]
    },
    {
     "name": "stderr",
     "output_type": "stream",
     "text": [
      "ERROR: Could not find a version that satisfies the requirement textblob.download_corpora (from versions: none)\n",
      "ERROR: No matching distribution found for textblob.download_corpora\n"
     ]
    }
   ],
   "source": [
    "pip install textblob.download_corpora"
   ]
  },
  {
   "cell_type": "code",
   "execution_count": 99,
   "id": "4f86eeff",
   "metadata": {},
   "outputs": [],
   "source": [
    "from textblob import TextBlob"
   ]
  },
  {
   "cell_type": "code",
   "execution_count": 100,
   "id": "1d680e75",
   "metadata": {},
   "outputs": [
    {
     "data": {
      "text/plain": [
       "'Good Quality Dog Food'"
      ]
     },
     "execution_count": 100,
     "metadata": {},
     "output_type": "execute_result"
    }
   ],
   "source": [
    "data['Summary'][0]"
   ]
  },
  {
   "cell_type": "code",
   "execution_count": 101,
   "id": "685e3b54",
   "metadata": {},
   "outputs": [
    {
     "data": {
      "text/plain": [
       "0.7"
      ]
     },
     "execution_count": 101,
     "metadata": {},
     "output_type": "execute_result"
    }
   ],
   "source": [
    "TextBlob('Good Quality Dog Food').sentiment.polarity"
   ]
  },
  {
   "cell_type": "code",
   "execution_count": 103,
   "id": "e2bd0e03",
   "metadata": {},
   "outputs": [
    {
     "data": {
      "text/plain": [
       "(393931, 12)"
      ]
     },
     "execution_count": 103,
     "metadata": {},
     "output_type": "execute_result"
    }
   ],
   "source": [
    "data.shape"
   ]
  },
  {
   "cell_type": "code",
   "execution_count": 104,
   "id": "b5140123",
   "metadata": {},
   "outputs": [],
   "source": [
    "sample = data[0:50000]"
   ]
  },
  {
   "cell_type": "code",
   "execution_count": 105,
   "id": "89eaa9c7",
   "metadata": {},
   "outputs": [],
   "source": [
    "polarity = []\n",
    "for text in sample['Summary']:\n",
    "    try: #to handle null\n",
    "        polarity.append(TextBlob(text).sentiment.polarity)\n",
    "    except:\n",
    "        polarity.append(0)\n",
    "        "
   ]
  },
  {
   "cell_type": "code",
   "execution_count": 106,
   "id": "636e4c43",
   "metadata": {},
   "outputs": [
    {
     "data": {
      "text/plain": [
       "50000"
      ]
     },
     "execution_count": 106,
     "metadata": {},
     "output_type": "execute_result"
    }
   ],
   "source": [
    "len(polarity)"
   ]
  },
  {
   "cell_type": "code",
   "execution_count": 107,
   "id": "b9b00419",
   "metadata": {},
   "outputs": [],
   "source": [
    "sample['Polarity'] = polarity"
   ]
  },
  {
   "cell_type": "markdown",
   "id": "09ebd26a",
   "metadata": {},
   "source": []
  },
  {
   "cell_type": "code",
   "execution_count": 108,
   "id": "f13353a2",
   "metadata": {},
   "outputs": [
    {
     "data": {
      "text/html": [
       "<div>\n",
       "<style scoped>\n",
       "    .dataframe tbody tr th:only-of-type {\n",
       "        vertical-align: middle;\n",
       "    }\n",
       "\n",
       "    .dataframe tbody tr th {\n",
       "        vertical-align: top;\n",
       "    }\n",
       "\n",
       "    .dataframe thead th {\n",
       "        text-align: right;\n",
       "    }\n",
       "</style>\n",
       "<table border=\"1\" class=\"dataframe\">\n",
       "  <thead>\n",
       "    <tr style=\"text-align: right;\">\n",
       "      <th></th>\n",
       "      <th>Id</th>\n",
       "      <th>ProductId</th>\n",
       "      <th>UserId</th>\n",
       "      <th>ProfileName</th>\n",
       "      <th>HelpfulnessNumerator</th>\n",
       "      <th>HelpfulnessDenominator</th>\n",
       "      <th>Score</th>\n",
       "      <th>Time</th>\n",
       "      <th>Summary</th>\n",
       "      <th>Text</th>\n",
       "      <th>viewer_type</th>\n",
       "      <th>Text_Len</th>\n",
       "      <th>Polarity</th>\n",
       "    </tr>\n",
       "  </thead>\n",
       "  <tbody>\n",
       "    <tr>\n",
       "      <th>0</th>\n",
       "      <td>1</td>\n",
       "      <td>B001E4KFG0</td>\n",
       "      <td>A3SGXH7AUHU8GW</td>\n",
       "      <td>delmartian</td>\n",
       "      <td>1</td>\n",
       "      <td>1</td>\n",
       "      <td>5</td>\n",
       "      <td>2011-04-27</td>\n",
       "      <td>Good Quality Dog Food</td>\n",
       "      <td>I have bought several of the Vitality canned d...</td>\n",
       "      <td>Not Frequent</td>\n",
       "      <td>49</td>\n",
       "      <td>0.7</td>\n",
       "    </tr>\n",
       "    <tr>\n",
       "      <th>1</th>\n",
       "      <td>2</td>\n",
       "      <td>B00813GRG4</td>\n",
       "      <td>A1D87F6ZCVE5NK</td>\n",
       "      <td>dll pa</td>\n",
       "      <td>0</td>\n",
       "      <td>0</td>\n",
       "      <td>1</td>\n",
       "      <td>2012-09-07</td>\n",
       "      <td>Not as Advertised</td>\n",
       "      <td>Product arrived labeled as Jumbo Salted Peanut...</td>\n",
       "      <td>Not Frequent</td>\n",
       "      <td>31</td>\n",
       "      <td>0.0</td>\n",
       "    </tr>\n",
       "    <tr>\n",
       "      <th>2</th>\n",
       "      <td>3</td>\n",
       "      <td>B000LQOCH0</td>\n",
       "      <td>ABXLMWJIXXAIN</td>\n",
       "      <td>Natalia Corres \"Natalia Corres\"</td>\n",
       "      <td>1</td>\n",
       "      <td>1</td>\n",
       "      <td>4</td>\n",
       "      <td>2008-08-18</td>\n",
       "      <td>\"Delight\" says it all</td>\n",
       "      <td>This is a confection that has been around a fe...</td>\n",
       "      <td>Not Frequent</td>\n",
       "      <td>99</td>\n",
       "      <td>0.0</td>\n",
       "    </tr>\n",
       "    <tr>\n",
       "      <th>3</th>\n",
       "      <td>4</td>\n",
       "      <td>B000UA0QIQ</td>\n",
       "      <td>A395BORC6FGVXV</td>\n",
       "      <td>Karl</td>\n",
       "      <td>3</td>\n",
       "      <td>3</td>\n",
       "      <td>2</td>\n",
       "      <td>2011-06-13</td>\n",
       "      <td>Cough Medicine</td>\n",
       "      <td>If you are looking for the secret ingredient i...</td>\n",
       "      <td>Not Frequent</td>\n",
       "      <td>43</td>\n",
       "      <td>0.0</td>\n",
       "    </tr>\n",
       "    <tr>\n",
       "      <th>4</th>\n",
       "      <td>5</td>\n",
       "      <td>B006K2ZZ7K</td>\n",
       "      <td>A1UQRSCLF8GW1T</td>\n",
       "      <td>Michael D. Bigham \"M. Wassir\"</td>\n",
       "      <td>0</td>\n",
       "      <td>0</td>\n",
       "      <td>5</td>\n",
       "      <td>2012-10-21</td>\n",
       "      <td>Great taffy</td>\n",
       "      <td>Great taffy at a great price.  There was a wid...</td>\n",
       "      <td>Not Frequent</td>\n",
       "      <td>30</td>\n",
       "      <td>0.8</td>\n",
       "    </tr>\n",
       "  </tbody>\n",
       "</table>\n",
       "</div>"
      ],
      "text/plain": [
       "   Id   ProductId          UserId                      ProfileName  \\\n",
       "0   1  B001E4KFG0  A3SGXH7AUHU8GW                       delmartian   \n",
       "1   2  B00813GRG4  A1D87F6ZCVE5NK                           dll pa   \n",
       "2   3  B000LQOCH0   ABXLMWJIXXAIN  Natalia Corres \"Natalia Corres\"   \n",
       "3   4  B000UA0QIQ  A395BORC6FGVXV                             Karl   \n",
       "4   5  B006K2ZZ7K  A1UQRSCLF8GW1T    Michael D. Bigham \"M. Wassir\"   \n",
       "\n",
       "   HelpfulnessNumerator  HelpfulnessDenominator  Score       Time  \\\n",
       "0                     1                       1      5 2011-04-27   \n",
       "1                     0                       0      1 2012-09-07   \n",
       "2                     1                       1      4 2008-08-18   \n",
       "3                     3                       3      2 2011-06-13   \n",
       "4                     0                       0      5 2012-10-21   \n",
       "\n",
       "                 Summary                                               Text  \\\n",
       "0  Good Quality Dog Food  I have bought several of the Vitality canned d...   \n",
       "1      Not as Advertised  Product arrived labeled as Jumbo Salted Peanut...   \n",
       "2  \"Delight\" says it all  This is a confection that has been around a fe...   \n",
       "3         Cough Medicine  If you are looking for the secret ingredient i...   \n",
       "4            Great taffy  Great taffy at a great price.  There was a wid...   \n",
       "\n",
       "    viewer_type  Text_Len  Polarity  \n",
       "0  Not Frequent        49       0.7  \n",
       "1  Not Frequent        31       0.0  \n",
       "2  Not Frequent        99       0.0  \n",
       "3  Not Frequent        43       0.0  \n",
       "4  Not Frequent        30       0.8  "
      ]
     },
     "execution_count": 108,
     "metadata": {},
     "output_type": "execute_result"
    }
   ],
   "source": [
    "sample.head()"
   ]
  },
  {
   "cell_type": "code",
   "execution_count": 112,
   "id": "a9b46dbe",
   "metadata": {},
   "outputs": [],
   "source": [
    "# perform sentiment analysis for -ve feedbacks\n",
    "sample_negative = sample[sample['Polarity'] < 0]\n",
    "\n",
    "# perform sentiment analysis for +ve feedbacks\n",
    "sample_positive = sample[sample['Polarity'] > 0]"
   ]
  },
  {
   "cell_type": "code",
   "execution_count": 114,
   "id": "d01f413b",
   "metadata": {},
   "outputs": [],
   "source": [
    "from collections import Counter"
   ]
  },
  {
   "cell_type": "code",
   "execution_count": 115,
   "id": "76415e7d",
   "metadata": {},
   "outputs": [
    {
     "data": {
      "text/plain": [
       "Counter({'poor taste': 2,\n",
       "         'Nasty No flavor': 1,\n",
       "         'How can you go wrong!': 1,\n",
       "         'pretty expensive': 1,\n",
       "         'stale product.': 1,\n",
       "         'Bigger then other brands': 1,\n",
       "         'Order only in cold weather': 1,\n",
       "         'Bad': 4,\n",
       "         'disappointing': 9,\n",
       "         'My every day green tea': 1,\n",
       "         'BROKEN BOTTLE BOTTOMS!': 1,\n",
       "         'Tasteless but low calorie': 1,\n",
       "         \"Marley's Mellow Mood Lite - Half Tea Half Lemonade\": 1,\n",
       "         'Nearly killed the cats': 1,\n",
       "         'CHANGED FORMULA MAKES CATS SICK!!!!': 1,\n",
       "         'Not a real tea': 1,\n",
       "         'Mcclures bloody Mary mix': 1,\n",
       "         'Not Good': 8,\n",
       "         'Eukanuba puppy small breed dog food': 1,\n",
       "         'My everyday cup of Tea': 1,\n",
       "         'Disappointed': 44,\n",
       "         'Sad outcome': 1,\n",
       "         \"Don't Waste Your Money\": 2,\n",
       "         'Disappointed!': 4,\n",
       "         'sugar in the raw': 1,\n",
       "         'Good product but terrible agricultural practices': 1,\n",
       "         'Sugar in the raw': 2,\n",
       "         'too expensive': 4,\n",
       "         'Not sure': 1,\n",
       "         'So awful I can barely describe': 1,\n",
       "         'AWFUL': 5,\n",
       "         'Bitter': 6,\n",
       "         'A saving grace for Green Mountain Coffee...': 2,\n",
       "         'Fantastic Chicken Noodle soup': 1,\n",
       "         'Heinz no more!': 1,\n",
       "         'Disappointing': 32,\n",
       "         'Waste of money': 6,\n",
       "         'Ham Base': 1,\n",
       "         'MSG Ham Base': 1,\n",
       "         'Love the product disappointed in the shipping.': 1,\n",
       "         'poor item packaging': 1,\n",
       "         'Awful': 17,\n",
       "         'Hard': 1,\n",
       "         'a slight taste of jalapeno': 1,\n",
       "         'Heavy on the Vinegar': 1,\n",
       "         'These chips make me weak at the knees': 1,\n",
       "         'Not bad but a little hard to get used to': 1,\n",
       "         'Firm quality chip': 1,\n",
       "         'Not  Very Creamy or Chivey...': 1,\n",
       "         'Prefer other flavors': 1,\n",
       "         'Maybe the worst chips ever.': 1,\n",
       "         'They changed the Chips now they taste horrible': 1,\n",
       "         'Gaaak!  An \"extreme\" potato chip...!': 1,\n",
       "         'Gone down hill': 1,\n",
       "         'STALE.  Beware buying these on special!': 1,\n",
       "         'Stale, Rancid Oil Taste, And if You Like Even the Tiniest Bit of Salt Flavor on Your Chips...': 1,\n",
       "         'Disgusting': 12,\n",
       "         'Taste terrible, way too strong': 1,\n",
       "         'VERY DISAPPOINTED': 2,\n",
       "         'Too SOUR!': 1,\n",
       "         'AWFUL TASTE': 1,\n",
       "         'Kettle has sold out, the chips are horrible now': 1,\n",
       "         'HORRIBLE I CANT BELIEVE THIS!': 1,\n",
       "         'The only thing I have ever been addicted too...these chips!': 1,\n",
       "         'ONLY awful because SOMETIMES they are awful': 1,\n",
       "         'So Faboo: Dangerous for those prone to Chips Binges!!!': 1,\n",
       "         'WRONG FLAVOR - got Country BBQ instead of Chili Chipotle': 1,\n",
       "         'Addicted': 5,\n",
       "         'Broken chips but tasty': 1,\n",
       "         'a bit on the stale side': 1,\n",
       "         'Perhaps something was wrong with the batch...': 1,\n",
       "         '$4 down the drain': 1,\n",
       "         'Big Disappointment': 1,\n",
       "         'Worst Frosting Ever': 1,\n",
       "         'worst frosting ever': 1,\n",
       "         'City Steam, not much steam in this brew.': 1,\n",
       "         'great coffee - terrible price': 1,\n",
       "         'Horrible .. dont buy it': 1,\n",
       "         'Not one but twice came broken.': 1,\n",
       "         'disappointment': 1,\n",
       "         'is this serious??? 10 bucks??': 1,\n",
       "         'Even at $15 seems a little overpriced.': 1,\n",
       "         'Chocolate - How can you go wrong?': 1,\n",
       "         'Odd Fake Flavor - Not Recommended': 1,\n",
       "         'Not like other countries Cadbury': 1,\n",
       "         'Mediocre, but cheap': 1,\n",
       "         \"You can't go wrong\": 1,\n",
       "         'Yummy, but small...': 1,\n",
       "         'Be Very Berry Wary.': 1,\n",
       "         'Too thin': 1,\n",
       "         'the garbanzo beans in it give horrible gas': 1,\n",
       "         'hard to find tea': 1,\n",
       "         'The most awful taste': 1,\n",
       "         'Not Hot': 1,\n",
       "         'Not hot, not habanero': 1,\n",
       "         'Not good': 10,\n",
       "         'Hard to find cereal found!': 1,\n",
       "         'Cereal is great.  Price is awful.': 1,\n",
       "         'Delicate Asian salad dressing...': 1,\n",
       "         'Not exactly as described': 1,\n",
       "         'Crumbled cookies are no fun to eat': 1,\n",
       "         'Impossible to Find!': 1,\n",
       "         'awful': 5,\n",
       "         'Unbelievable deal on a hard to find pruduct!': 1,\n",
       "         'No more stale chips. Cheap!': 1,\n",
       "         'Ketchup powdery coating excessive, overdone gritty': 1,\n",
       "         \"PLEASE!!!!!Don't waste your money\": 1,\n",
       "         'Hard to please kitty LOVES it': 1,\n",
       "         'Non Alcoholic..': 1,\n",
       "         'bland': 2,\n",
       "         \"Arrived broken and isn't eligible for return?\": 1,\n",
       "         'Items in this Gift Basket were bad -- old and stale': 1,\n",
       "         'Dried UP': 1,\n",
       "         'Mostly dry': 1,\n",
       "         \"Like to gamble? Buying the St. Patty's Dried Fruit Basket is a Crap-Shoot\": 1,\n",
       "         'Vendor ripped off all of their cultures from other vendors': 1,\n",
       "         \"Not nearly as good as Bissinger's French Long\": 1,\n",
       "         'False Advertising': 2,\n",
       "         'Not what I expected': 17,\n",
       "         'small swirled lollipops': 1,\n",
       "         'Cute, small lollipops, a few arrived broken': 1,\n",
       "         'Omaha Chicken and Stuffed Baked Potatoies': 1,\n",
       "         'Horrible!': 3,\n",
       "         \"Hard to find - Bird's custard powder\": 1,\n",
       "         'Our dogs go crazy for this!': 1,\n",
       "         'Hard to find Beer Nuts': 1,\n",
       "         'Expensive But Worth It!': 1,\n",
       "         'outrageous': 1,\n",
       "         'Equidorian OJio Arriba Carillo \"RAW Oranic\" Cacao': 1,\n",
       "         'Poor quality product': 1,\n",
       "         'Got a chest cold with a nasty cough?????': 1,\n",
       "         'a little to hard': 1,\n",
       "         'Sorry, taste is not pleasing.': 1,\n",
       "         'Difficult to review.': 1,\n",
       "         'Worst Caviar Ever': 1,\n",
       "         'fishy little devils': 1,\n",
       "         'Disappointing...': 2,\n",
       "         'too much red dye and too little taste.... other than that it is great-lol': 1,\n",
       "         'Smaller Than Expected': 1,\n",
       "         'Not very good': 8,\n",
       "         'Chicken and Rice ???': 1,\n",
       "         'THICK SOUP': 1,\n",
       "         'Not a lot of flavor, not a lot of chicken': 1,\n",
       "         'Chicken noodle': 1,\n",
       "         'not good': 11,\n",
       "         'Noodles not good': 1,\n",
       "         'HORRIBLE.': 1,\n",
       "         'weak coffee not good for a premium product and price': 1,\n",
       "         \"We couldn't tell the difference in a blind taste test.\": 1,\n",
       "         'makes nasty loose poo!': 1,\n",
       "         'Worst cookies ever!!!!!': 1,\n",
       "         'artificial flavor': 1,\n",
       "         'Needs a little something': 1,\n",
       "         'Horrible smell': 2,\n",
       "         'Tasteless mess': 1,\n",
       "         'product is great price is insane': 1,\n",
       "         'My dog now sheds less!': 1,\n",
       "         'Hard to find locally': 1,\n",
       "         'No good . . .': 1,\n",
       "         'Fun Game': 1,\n",
       "         'Beware hidden ingredients': 1,\n",
       "         'Eat without feeling guilty!': 1,\n",
       "         'Everyone Should To Try These At Least Once': 1,\n",
       "         'Deliciousness for little calories!': 1,\n",
       "         'Weird flavors....': 1,\n",
       "         'Not impressed': 8,\n",
       "         'disgusting': 2,\n",
       "         'Hidden sources of MSG in the ingredients': 1,\n",
       "         'TASTE AVERAGE, INSANELY EXPENSIVE': 1,\n",
       "         'I only like the plain ones': 1,\n",
       "         'Buy them less from here!!! (While you can)': 1,\n",
       "         'Not bad, but not impressive! .8 oz equals about 15 chips.': 1,\n",
       "         'Not bad But not great': 1,\n",
       "         'Like slightly charred popcorn': 1,\n",
       "         'A little hard to open': 1,\n",
       "         'Too small, too hard to open': 1,\n",
       "         'Works, but hard to open...Buy larger version instead of pod': 1,\n",
       "         'Caveat emptor! Disappointing': 1,\n",
       "         'Not Safe!': 1,\n",
       "         'Dirty Martini Olive Juice': 2,\n",
       "         'My husband loves his Dirty Martinis...': 1,\n",
       "         'Dirty Martini': 1,\n",
       "         'Not really olive juice': 1,\n",
       "         \"It's not worth it!\": 1,\n",
       "         'Hard to control the quantity.': 1,\n",
       "         'Disappointed!!': 1,\n",
       "         'Disappointed with my first farmhouse pancake': 1,\n",
       "         'Tasty pancakes, but a little flat': 1,\n",
       "         'No better than Jiffy': 1,\n",
       "         'Not sure what the hype is ...': 1,\n",
       "         'Confused...': 1,\n",
       "         'Extremely Disappointing': 2,\n",
       "         'Worst Summer EVER': 1,\n",
       "         'Are these all the k cups that come out of other packages?': 1,\n",
       "         'Wrong product': 1,\n",
       "         \"Don't waste your money\": 11,\n",
       "         'Not Real Peanut Satay': 1,\n",
       "         'stale cigars': 1,\n",
       "         'False advertising!': 2,\n",
       "         'Great Product, Awful Price': 1,\n",
       "         'All 12 cans were terribly banged up and dented!': 1,\n",
       "         'D.O.P? Not really....': 1,\n",
       "         'a little disappointing': 2,\n",
       "         'Too Expensive': 1,\n",
       "         'Not sure what I got': 1,\n",
       "         'This formula is terrible!': 1,\n",
       "         'Little Flavor': 1,\n",
       "         'Dispenser too small': 1,\n",
       "         'Rishi Tea Loose Leaf Tea Bags, 100-count (Pack of 6)': 1,\n",
       "         'Rishi Tea Loose Leaf Tea Bags': 1,\n",
       "         'SKIMPY for the price charged!!  Shocked!': 1,\n",
       "         'Cheaper than other brands': 1,\n",
       "         'I got the wrong food but dog ate it up': 1,\n",
       "         'tasty, but stale (hard)': 1,\n",
       "         'A box of stale crumbs': 1,\n",
       "         'Great cookies - TERRIBLE PRICE': 1,\n",
       "         'Like it but hard to find': 1,\n",
       "         'down to almost none ....': 1,\n",
       "         'New formulation for 10/2012 is not good at all!': 1,\n",
       "         'Terrible flavor': 1,\n",
       "         'Bland': 18,\n",
       "         'Caution - poorly balanced nutrition!': 1,\n",
       "         'Disgusting, nasty, inedible': 1,\n",
       "         'Bad tasting soup': 1,\n",
       "         'a little expensive': 1,\n",
       "         '\"Health food\" from China? Doubtful': 1,\n",
       "         'But quality seems to be slipping': 1,\n",
       "         'lots of uses for this green tea...': 1,\n",
       "         'Crushed up leaves!': 1,\n",
       "         'Stash Instant Green Tea': 1,\n",
       "         'Stash Premium Mint Green Iced Tea Powder': 1,\n",
       "         'No Flavor - Not Authentic': 1,\n",
       "         'Stash Green Tea Powder': 1,\n",
       "         'Great for on the go!  Makes water a little less boring!': 1,\n",
       "         'Way too weak for my tastes': 2,\n",
       "         'Powdered Green Tea by Stash': 1,\n",
       "         'Just as expected': 2,\n",
       "         'waste of money': 2,\n",
       "         'Terrible': 15,\n",
       "         'Not worth it!': 1,\n",
       "         'I hope I just got a bad batch': 1,\n",
       "         'NO MORE PEPSI FOR ME!!': 1,\n",
       "         'Shipping is INSANE!!!': 1,\n",
       "         'Too small, too much shell & not enough white fluffy part': 1,\n",
       "         'Small pops': 1,\n",
       "         'Spoiled me for other popcorn': 1,\n",
       "         'average taste': 1,\n",
       "         'Poor product': 2,\n",
       "         'Received wrong product': 1,\n",
       "         'Pops well, not much flavor': 1,\n",
       "         'the worst popcorn on the planet': 1,\n",
       "         'Small Kernals': 1,\n",
       "         'great popcorn  terrible price for shipping': 1,\n",
       "         'Amish County Baby White Popcorn not really in stock': 1,\n",
       "         'Tasteless': 4,\n",
       "         'Bit of a disappointment on two fronts': 1,\n",
       "         'Not great, not bad': 1,\n",
       "         'Decent, but not great': 1,\n",
       "         'Not full leaf, 1 pound, not 20 pounds': 1,\n",
       "         'USA Chicken Stix': 1,\n",
       "         'I was addicted to this stuff for a while, but wore myself out': 1,\n",
       "         'cold and refreshing': 1,\n",
       "         \"Nutritional content of this brand does not live up to what's on the label.\": 1,\n",
       "         'So Addicted': 1,\n",
       "         'Wrong Product displayed for order': 1,\n",
       "         'Extremely Disappointed': 1,\n",
       "         'Green Mountain K Cups': 1,\n",
       "         \"Green Mountain compared with Tully's French Roast\": 1,\n",
       "         'Flavor in, Calories Down, Fat Nearly Out': 1,\n",
       "         'Seemingly impossible...': 1,\n",
       "         'Cookie chips were not very tasty': 1,\n",
       "         'Oreo Thin Crisps 100 Calorie Packs': 1,\n",
       "         'Oreo Thin Crisps work for me': 1,\n",
       "         'The worst snap-lock reseal ever made?': 1,\n",
       "         \"All By-Product & Corn -- Don't Waste Your Money!\": 1,\n",
       "         'Not happy with the product!': 1,\n",
       "         'Superlative store bought cookies: very hard to find!': 1,\n",
       "         'strange flavor': 1,\n",
       "         'Just awful': 1,\n",
       "         'boring boring boring': 1,\n",
       "         'No more guilt snacking the grand-babies!': 1,\n",
       "         'Cafe Excellence Crazy caramet whole beans 2 pound': 1,\n",
       "         'Not particularly good': 1,\n",
       "         'Needs a few additions': 1,\n",
       "         'Not extraordinary': 2,\n",
       "         'Got them for my dog with heart failure': 1,\n",
       "         'Flavor & texture not good in this batch': 1,\n",
       "         'Single worst coffee ever': 1,\n",
       "         'The Worst Tasting Coffee I Have EVER Tasted!': 1,\n",
       "         '30 bottles instead of the usual 24': 1,\n",
       "         'Shipping packaging is poor': 1,\n",
       "         \"Suzie's Puffed Thin Cakes\": 1,\n",
       "         'new recipe gone bad': 1,\n",
       "         'Decent Flavors but a little weak': 1,\n",
       "         'If you like the taste of artificial sweetner it is ok.': 1,\n",
       "         'Found the secret': 1,\n",
       "         'HARD TO BELIEVE': 1,\n",
       "         'Can taste artificial sweetner.': 1,\n",
       "         'NASTY': 3,\n",
       "         'Horrible': 15,\n",
       "         'Really Awful': 1,\n",
       "         'Should have listened to other bad reviews :(': 1,\n",
       "         'Not good!': 1,\n",
       "         'Artificial Sweetener! YUCK!': 1,\n",
       "         'So bad I had trouble giving it away!': 1,\n",
       "         'Horrible Taste!': 2,\n",
       "         'A little thin': 1,\n",
       "         'Much better and less expensive than that ordered from Keurig!': 1,\n",
       "         \"At least it wasn't expensive.\": 1,\n",
       "         'Too much artificial sweetner': 1,\n",
       "         'Too sweet, too weak': 1,\n",
       "         'Not bad, but not good either': 2,\n",
       "         'Bad Taste': 1,\n",
       "         'Worst Hot chocolate ever!': 1,\n",
       "         'Why, oh why, add fake sugar?': 1,\n",
       "         'W-E-A-K! NOT WORTH THE COST!!!!': 1,\n",
       "         \"Cocoa wasn't bad. . .Price was horrible\": 1,\n",
       "         'Not worth it, bad concept': 1,\n",
       "         'Downright awful!': 1,\n",
       "         'Has sucralose :(': 1,\n",
       "         'PARTIALLY HYDROGENATED VEGETABLE OIL': 1,\n",
       "         'Weird after taste, sugar substitute': 1,\n",
       "         'Stay away from artificial sweeatners': 1,\n",
       "         'STALE': 3,\n",
       "         'Very very Stale': 1,\n",
       "         'Love Cracker Jacks, hate them from Amazon': 1,\n",
       "         'Cracker Jacks were STALE': 1,\n",
       "         'Pink perfection!': 1,\n",
       "         'Long lost find!': 1,\n",
       "         'Pink Grapefruit forever!': 1,\n",
       "         'a little surprised': 1,\n",
       "         'quality food for less': 1,\n",
       "         'NO TUNA!! FALSE CLAIM !!': 1,\n",
       "         'Very Disappointed': 10,\n",
       "         'Late shipment': 1,\n",
       "         'A Bitter Pill': 1,\n",
       "         'Oh so bitter tasting......': 1,\n",
       "         'Poor Food Design!!!': 1,\n",
       "         'Not as expected': 1,\n",
       "         'Bitter and a disappointment': 1,\n",
       "         'Nasty': 8,\n",
       "         'Simply Nasty': 1,\n",
       "         'Little ones like them...and NO SOY!': 1,\n",
       "         'No more shedding': 1,\n",
       "         'Artificial taste': 1,\n",
       "         'Yummy Dark Chocolate': 1,\n",
       "         'Bad reviewers need to stir': 1,\n",
       "         'Dark chocolate cocoa': 1,\n",
       "         'Seriously???': 1,\n",
       "         'Nasty watery drink': 1,\n",
       "         'Panda boxes of little licorice  pieces': 1,\n",
       "         \"Doesn't leave my teeth black\": 1,\n",
       "         'Not good at all': 3,\n",
       "         'Very weak coffee': 1,\n",
       "         'missing in action': 1,\n",
       "         'Great drink, horrible price!': 1,\n",
       "         'Truffle Oil? Well, at least the oil is real.': 2,\n",
       "         'Among the Worst Candy Ever Produced': 1,\n",
       "         'Zesty spearmint and lemon are modulated by green tea into a substantial potion!': 2,\n",
       "         'shipping charges excessive': 1,\n",
       "         'Thick body wash that lathers easily--sometimes I use it for bubble bath (Deep Moisture)': 1,\n",
       "         'Just plain gross!': 1,\n",
       "         'Packed in the wrong oil.': 1,\n",
       "         'Bad flavor combination': 1,\n",
       "         \"Pathetic cookie compared to TANG's\": 1,\n",
       "         'Terrible!': 4,\n",
       "         'Match Your Mic Carefully': 1,\n",
       "         'Not for long term use': 1,\n",
       "         'Not bad, not great': 2,\n",
       "         'Poor volume with Shure SM57': 1,\n",
       "         'Not Compatible With Windows 7 :(': 1,\n",
       "         'What a little beast.': 1,\n",
       "         'Cold as Ice': 1,\n",
       "         'feels like a small lightsaber': 1,\n",
       "         'No good for Wii': 1,\n",
       "         'A Slight Quality Control Issue': 1,\n",
       "         \"Yuck! Don't waste your money.\": 1,\n",
       "         'A bit disappointing': 1,\n",
       "         'Not impressed.': 3,\n",
       "         'NOT IMPRESSED': 1,\n",
       "         'Very DISAPPOINTING Pancakes': 1,\n",
       "         'A disappointment...': 1,\n",
       "         'The worst pizza ever': 1,\n",
       "         'Too thin!': 1,\n",
       "         'Seven days of bad taste in your mouth': 1,\n",
       "         'Very Plain': 1,\n",
       "         '4 of 11 Vials arrived broken': 1,\n",
       "         'Disgusting! Waste of Money!': 1,\n",
       "         'Worst purchase ever on Amazon.  Not useable!!': 1,\n",
       "         'Tastes different, and much worse than before': 1,\n",
       "         'Slightly acidic, not for me...': 1,\n",
       "         'Not bad, not great...': 1,\n",
       "         'So-So - average for decaf': 1,\n",
       "         'Not Impressed': 2,\n",
       "         'GOOD FOR YOU, BUT WORST TASTING TEA EEEVVVEEERRR': 1,\n",
       "         'Not as pictured, messy appearance': 1,\n",
       "         'Expected vs Received': 1,\n",
       "         'somewhat disappointed': 2,\n",
       "         'Ultra thin wasa': 1,\n",
       "         'Above user is wrong': 1,\n",
       "         'Okay for a casual get together': 1,\n",
       "         'Dog loves the food, but the cans were badly dented': 1,\n",
       "         'Gives my Dalmatian mix horrible gas!': 1,\n",
       "         'dogs scarf it down!': 1,\n",
       "         'Not good enough': 1,\n",
       "         '...About Chicken Meal...': 1,\n",
       "         'DECEPTIVE! DISAPPOINTED!': 1,\n",
       "         'Bad batch made my dog sick': 1,\n",
       "         'This food is working shockingly well for our allergy prone pug.': 1,\n",
       "         'My dog is not impressed': 1,\n",
       "         'I agree with the previous reviewer, the name is deceptive.': 1,\n",
       "         'scared sophia had terrible diarhea': 1,\n",
       "         'Worst coffee EVER': 1,\n",
       "         'False Advertising, Terrible Dog Food!!': 3,\n",
       "         'Very weak': 2,\n",
       "         'Benefit hard to determine': 1,\n",
       "         'I was skeptical': 1,\n",
       "         'I had 3 EMPTY tea bags...BEWARE!': 1,\n",
       "         'Deadly Product': 1,\n",
       "         'Not good quality': 1,\n",
       "         'taste just awful!': 1,\n",
       "         'Too expensive to buy here.': 1,\n",
       "         'Cost increased as size decreased': 1,\n",
       "         'Not terribly appealing': 1,\n",
       "         'Waste of money...do not buy.': 1,\n",
       "         'Dried out Mega Bone!': 1,\n",
       "         'terrible': 2,\n",
       "         'Very poor service': 1,\n",
       "         'hard to find in stores': 1,\n",
       "         'Healthy Choice chicken Tortilla Style Soup': 1,\n",
       "         'Thick, sweet, heavy tomato base, not Mexican spiced.': 1,\n",
       "         'not authentic': 1,\n",
       "         'Dont waste your money': 2,\n",
       "         \"Maybe not authentic, but it's yummy!\": 1,\n",
       "         'Twinings Earl Grey decaf tea Kcups': 1,\n",
       "         'Dry and too fruity': 1,\n",
       "         'poor quality control.... moldy': 1,\n",
       "         'high quality for less cost': 1,\n",
       "         'Poor value for the money': 1,\n",
       "         'I and my dog love it, my cats hate it': 1,\n",
       "         'Dead seeds': 1,\n",
       "         'How can you go wrong?': 2,\n",
       "         'Wow that Expensive for coffee': 1,\n",
       "         'Extremely pricey, but one of my favorites': 1,\n",
       "         'Poor texture': 1,\n",
       "         'SUGAR IS BAD FOR DOGS (First Ingredient is Sugar)': 1,\n",
       "         'Shocked! So Amazing!': 1,\n",
       "         'A poor choice': 1,\n",
       "         'some jars went bad': 1,\n",
       "         'Wrong item shipped': 1,\n",
       "         'Waste of time.': 1,\n",
       "         'Agree with the other reviewers': 1,\n",
       "         'Very Weak Flavor, Definately NOT Watermelon': 1,\n",
       "         'poorly packaged': 1,\n",
       "         'Careful of the price': 1,\n",
       "         'disappointed': 15,\n",
       "         'Missing from store shelves': 1,\n",
       "         'Tasteless flavoring': 1,\n",
       "         'Not NEARLY as strong as claimed!': 1,\n",
       "         'Something is Very Wrong Here': 1,\n",
       "         'Bad taste in mouth': 1,\n",
       "         'Awful taste': 1,\n",
       "         '9 Lives Chicken & Tuna Dinner': 1,\n",
       "         'Ugh, nasty, mushy olives': 1,\n",
       "         'Small but spicy': 1,\n",
       "         'A little bit disapointed': 1,\n",
       "         'Folgers Half Caffeine': 1,\n",
       "         'Freezed dried Peas': 1,\n",
       "         'One of my worst purchases ever from amazon': 1,\n",
       "         'Kitty was Not Pleased.': 1,\n",
       "         'Smell is awful!': 1,\n",
       "         'Disappointing Vanilla Beans': 1,\n",
       "         'Sour Vanilla Beans': 1,\n",
       "         'I just like the plain ones': 1,\n",
       "         'Beefeaters® Chicken Liver Freeze Dried Treats for Dogs': 1,\n",
       "         'FOUR OF FOUR CATS : PAWS (thumbs) DOWN': 1,\n",
       "         \"I'm confused with this gum.\": 1,\n",
       "         'Very Poorly Packaged': 1,\n",
       "         'a bit weak in taste': 1,\n",
       "         'weak': 3,\n",
       "         'Refreshing with zero artificial sweeteners': 1,\n",
       "         'A good base for larger snacks': 1,\n",
       "         'Slow cooking': 1,\n",
       "         'Hard to find': 6,\n",
       "         'good product, terrible packaging by Amazon.': 1,\n",
       "         'be careful, moldy product, USDA now involved': 1,\n",
       "         'careful, moldy product, USDA now involved': 1,\n",
       "         'Some broken jars': 2,\n",
       "         'Grainy and a Little Oily but Thick': 1,\n",
       "         'Not a fan unfortunately.': 1,\n",
       "         'MESSY, MESSY, MESSY': 1,\n",
       "         'It gone bad before we open': 1,\n",
       "         'Too Small': 1,\n",
       "         'My pups gobble them down!': 1,\n",
       "         'Real hard Bites': 1,\n",
       "         'Terrible cheap chocolates for outrageous prices.': 1,\n",
       "         \"worst cup of coffee I've ever tasted\": 1,\n",
       "         'Expensive, but worth it!': 1,\n",
       "         \"Finally, a food my allergic cat will eat that won't make him sick!\": 1,\n",
       "         'helps bad digestion': 1,\n",
       "         'Ridiculous price': 1,\n",
       "         'Raw Organics going back to Paradise': 1,\n",
       "         'Sweet compensation from hard work on a cold day.': 1,\n",
       "         'sour': 1,\n",
       "         'Hard to tell': 2,\n",
       "         \"Other brands don't compare!\": 1,\n",
       "         'Not really 4 million scovilles': 1,\n",
       "         'A little goes a long way!': 1,\n",
       "         'Smelled horrible and gave the dogs the runs': 1,\n",
       "         'As described but difficult to use': 1,\n",
       "         'great chips but terrible shipping': 1,\n",
       "         'Hard as a rock with about as much flavor': 1,\n",
       "         'heavy duty!': 1,\n",
       "         'Moist but bland': 1,\n",
       "         'decent but not great': 1,\n",
       "         'Hard to find item delivered fast': 1,\n",
       "         'Makes bringing a side dish a little easier': 1,\n",
       "         'I guess it goes down the same way anyhoe': 1,\n",
       "         'Too Expensive on Amazon': 1,\n",
       "         'At least you can find King B in some form.': 1,\n",
       "         'maybe I got a bad batch': 1,\n",
       "         'Hard as a Rock': 1,\n",
       "         'Sorry...': 1,\n",
       "         'This stuff is bad!': 1,\n",
       "         'Wrong hat and misleading description': 1,\n",
       "         'Taste good but gave me gas =(': 1,\n",
       "         'Earl Grey Tea + + +': 1,\n",
       "         'Neither cat will touch it :( But dogs go wild...5 Star for Dog Food Treat': 1,\n",
       "         'From a person with a very limited diet': 1,\n",
       "         'Not too bad': 4,\n",
       "         'Weird texture; too dry and crumbly...': 1,\n",
       "         'DIsgusting -- gave me an instant headache!': 1,\n",
       "         'Just Terrible.': 1,\n",
       "         'Disappointed in texture': 1,\n",
       "         'too dry': 2,\n",
       "         \"Cookies you don't have to feel guilty about eating!\": 1,\n",
       "         'not what I expected': 4,\n",
       "         'Dry as a Bone': 1,\n",
       "         'OLD AND STALE!': 1,\n",
       "         'Awful shipping standards, harsh taste.': 1,\n",
       "         'Dog will eat it, but poop like crazy!': 1,\n",
       "         'Very Bitter Tea': 1,\n",
       "         'This is terrible tea': 1,\n",
       "         'Contains CHICKEN': 1,\n",
       "         'bad review': 1,\n",
       "         'Artificial tasting': 1,\n",
       "         'Small can': 1,\n",
       "         \"A decent diversion if you're tired of colas...\": 1,\n",
       "         'Metallic, Sweet, Bad Aftertaste': 1,\n",
       "         'Nothing like they promise, rather nasty tasting': 1,\n",
       "         'Thick Drink with a Strange Taste': 1,\n",
       "         'sickening sweet': 1,\n",
       "         'Not A Bad Alternative To Soda, But Not A Great One Either': 1,\n",
       "         'Not a fan, has an odd taste - Carbonation in minimal': 1,\n",
       "         'Tasty but expensive': 1,\n",
       "         'Tasty refuel after exercise or liven up a lunch; 100% juice, 0% bad stuff': 1,\n",
       "         'Think a slightly fizzier Orangina....': 1,\n",
       "         'Not good enough for me to make The Switch': 1,\n",
       "         'Decent tasting, but too small and overpriced': 1,\n",
       "         'Lame': 2,\n",
       "         'Very harsh, too-sweet flavor.': 1,\n",
       "         'I had high hopes, am a bit disappointed': 1,\n",
       "         'Switch Flashback to my childhood - bad memories man': 1,\n",
       "         'I recommend other flavors instead': 1,\n",
       "         'Too sweet to drink uncut.': 1,\n",
       "         'small size and mediocre taste': 1,\n",
       "         'Too much sugar, too expensive': 1,\n",
       "         'Strange...': 2,\n",
       "         'Tasty alternative to the usual sodas': 1,\n",
       "         'Really Not Too Bad': 1,\n",
       "         'Not Bad, but Not Great': 1,\n",
       "         'Decent, but tastes a little \"odd\"': 1,\n",
       "         'Lids too tight': 1,\n",
       "         'KCup convenience but less costly': 1,\n",
       "         'Big disappointment': 2,\n",
       "         'I use these for air tight pre-measured storage containers AFTER I have figured out the correct grind and amount': 1,\n",
       "         'Poor Performance': 1,\n",
       "         'Not worth the trouble': 1,\n",
       "         'Spews coffee grounds inside Keurig machine K-cup holder and down into my coffee every time!': 1,\n",
       "         'Not worth buying!': 1,\n",
       "         'poor design': 1,\n",
       "         'Like but not perfect': 1,\n",
       "         'Real BAD idea': 1,\n",
       "         'a must for anyone who thinks K cups are too expensive': 1,\n",
       "         'Finally, an answer to the expensive Keurig cups': 1,\n",
       "         'Not very good for me': 1,\n",
       "         'odd shaped': 1,\n",
       "         'Too bland': 1,\n",
       "         'Not bad, not great.... just average.': 1,\n",
       "         'NO GOOD': 2,\n",
       "         'horribly overpriced': 1,\n",
       "         'Quite disappointing': 1,\n",
       "         'Felt a little silly ordering this on line': 1,\n",
       "         'Fluffy white popcorn': 1,\n",
       "         'Disappointed - Tough Kernals': 1,\n",
       "         'Onion-Garlic Dry Roasted Soy Nuts -- OK, but not great!': 1,\n",
       "         'LOVE and hate in same family': 1,\n",
       "         'Mediocre': 6,\n",
       "         'Festival doesn\\'t tell us what they mean by \"Fresh Pack\"': 1,\n",
       "         'I hate flavored Coffee!': 1,\n",
       "         \"Bob's Red Mill Pumpkin Seeds, Raw\": 1,\n",
       "         \"Bob's Red Mill Pumpkin Seeds, Raw, 24-Ounc...\": 1,\n",
       "         'Be Wary of AmazingClubs Ice Cream of the Month Club': 1,\n",
       "         'black truffles': 1,\n",
       "         'extreme disappointment': 1,\n",
       "         'No stars for this expensive garbage': 1,\n",
       "         'horrible': 4,\n",
       "         \"cooper's OS lager as base\": 1,\n",
       "         'Broken and not what picture showed': 1,\n",
       "         'weird stuff': 1,\n",
       "         'Not very Bellini...': 1,\n",
       "         'All natural, but bland': 1,\n",
       "         'No more fluorescent orange macaroni & cheese!': 1,\n",
       "         'a little twisted': 1,\n",
       "         'Dead on Arrival': 1,\n",
       "         'The worst purchase I ever made from Amazon': 1,\n",
       "         'Small': 2,\n",
       "         'Shipped alive, then I killed it': 1,\n",
       "         'brown and small': 1,\n",
       "         'Bad!!!': 1,\n",
       "         'I killed the plant': 1,\n",
       "         'Disappointing Filled Bones!': 1,\n",
       "         'HORRIBLE!': 1,\n",
       "         'Blech!!!': 1,\n",
       "         'I love goat milk, but too bad....': 1,\n",
       "         'This is a lifesaver for me and my little': 1,\n",
       "         'All that and less $ than our local store': 1,\n",
       "         'NO MORE MEYENBERG!': 1,\n",
       "         'Like little glistening rubies...': 1,\n",
       "         'Are you serious?': 1,\n",
       "         'Not exactly what I thought I was getting.': 1,\n",
       "         'Mixed review: convenient, okay taste, bad stomach problems': 1,\n",
       "         \"Awful taste! Don't buy it!!\": 1,\n",
       "         'POOR DESCRIPTION': 1,\n",
       "         'Bland and disappointing..': 1,\n",
       "         'Very Yummy Chicken and Rice!': 1,\n",
       "         'Wolfgang  Puck Organic Chicken with White & Wild Rice Soup': 1,\n",
       "         'More chicken please!': 1,\n",
       "         'Tasty (but greasy) chicken soup': 1,\n",
       "         '\"The worst thing I\\'ve ever tasted\"': 1,\n",
       "         'Horrible taste!!': 1,\n",
       "         'Slightly Spicy are Slightly Addicting': 1,\n",
       "         'Everything I expected': 1,\n",
       "         'A  Disappointment': 1,\n",
       "         'Take a sharp object to defend your self': 1,\n",
       "         'Sorry excuse for oatmeal': 1,\n",
       "         'Going into a Koma coma': 1,\n",
       "         'After at least a year drinking this tea, some thoughts.': 1,\n",
       "         'Wrong Product wrong Name': 1,\n",
       "         \"The worst 'tea' I have ever tried.\": 1,\n",
       "         'Must mix it with fruit or other tasty baby food': 1,\n",
       "         'Weird texture': 1,\n",
       "         'Bad product': 2,\n",
       "         'Expensive, Messy and Quick': 1,\n",
       "         'Not very busy...': 1,\n",
       "         'Poor quality beans': 1,\n",
       "         'Very weak tea': 1,\n",
       "         'these little lentils taste terrific, are USDA organic': 1,\n",
       "         'Addicted!!!!': 1,\n",
       "         'Truly AWFUL!': 1,\n",
       "         'Too dark': 1,\n",
       "         'Ridiculously Expensive!!': 1,\n",
       "         'Horizon Organic Plain Organic Milk, 8-Ounce Aseptic Cartons (Pack of 18)': 1,\n",
       "         'Horizon aspetic plain organic milk cartons': 1,\n",
       "         \"This tea shouldn't be so hard to find!\": 1,\n",
       "         'Very disappointing': 2,\n",
       "         'Caused my normally \"iron\" kitty to vomit :(': 1,\n",
       "         'Both cats threw up for a long time': 1,\n",
       "         'Not safe for kittens!': 1,\n",
       "         'Sick Cats': 1,\n",
       "         'Cat lethargic and sick for two days': 1,\n",
       "         'My cat is addicted!!!!!  lol': 1,\n",
       "         'Price nearly doubled in less than 2 months?': 1,\n",
       "         'as long as he likes it...': 1,\n",
       "         'My mom said this was not as flavorful as other \"Extra Bolds\"': 1,\n",
       "         'Weak, even on small cup setting': 1,\n",
       "         'Really Disappointed': 1,\n",
       "         'Milder than expected': 1,\n",
       "         'Heavily Flavored - Not For Us': 1,\n",
       "         'Tasteless and watery': 1,\n",
       "         'Bad Cups': 1,\n",
       "         'Somewhat disappointing': 1,\n",
       "         'Bitter taste': 3,\n",
       "         'so disappointing': 2,\n",
       "         'poorly sealed': 1,\n",
       "         'Hated it!': 1,\n",
       "         'Coffee Makes Me a Crazy': 1,\n",
       "         'Not good at all!!!!!!!!!!!!!': 1,\n",
       "         'Sorry Wolfgang!': 1,\n",
       "         'Crazy indeed': 1,\n",
       "         'Can Wolfgang make a bad k-cup?': 1,\n",
       "         'A bit disappointed': 2,\n",
       "         'Wolfgang Puck Dark Roast': 1,\n",
       "         '1 down 47 to go': 1,\n",
       "         'Jamaica Me Crazy Coffee': 1,\n",
       "         'Jamaica Me Crazy K-Cups': 1,\n",
       "         'Either I got a bad batch or....': 1,\n",
       "         'Poor quality Kcups': 1,\n",
       "         'Above average K-cup coffee': 1,\n",
       "         'Jamica Me Crazy': 1,\n",
       "         'Yum  but weak': 1,\n",
       "         'Horrible: did something happen?': 1,\n",
       "         'Not much flavor to this coffee...': 1,\n",
       "         'A bit of a disappointment.': 1,\n",
       "         'So weak!': 1,\n",
       "         'Too bitter and smoky': 1,\n",
       "         'Weak coffee - little flavor!': 1,\n",
       "         'Tasted like bitter oranges': 1,\n",
       "         'Jamaica Me Crazy Terrible': 1,\n",
       "         \"Don't waste your money or your Keurig on this!\": 1,\n",
       "         'What a waste of money!': 1,\n",
       "         'bad tasting coffee': 1,\n",
       "         'Meh...Okay, Not Great': 1,\n",
       "         'crazy flavor combination.': 1,\n",
       "         'What a disappointment': 1,\n",
       "         'No flavor - very weak': 1,\n",
       "         'bitter': 2,\n",
       "         \"WORST COFFEE I'VE EVER HAD!\": 1,\n",
       "         \"Simply - It's terrible\": 1,\n",
       "         'Bitter w/ overtones of cardboard': 1,\n",
       "         'The WORST coffee !': 1,\n",
       "         'Yuk!  Twangy aftertaste and weak coffee make this one to avoid.': 1,\n",
       "         'horrible coffee': 1,\n",
       "         'Disappointed, this is not BOLD coffee': 1,\n",
       "         'Average offering from Wolfgang Puck': 1,\n",
       "         'Average quality French roast': 1,\n",
       "         'Well-rounded but weak': 1,\n",
       "         'Almost Bitter': 1,\n",
       "         'Tasty but Expensive': 1,\n",
       "         'Wet, Soft for Firm, Tofu': 1,\n",
       "         'Duck Rillettes - not much flavor': 1,\n",
       "         'Product description wrong!': 1,\n",
       "         'Slightly Spicy': 1,\n",
       "         'Why is the coffee so expensive at Amazon?': 1,\n",
       "         'The Worst Coffee': 1,\n",
       "         'This stuff is nasty': 2,\n",
       "         'Less expensive, high quality food': 1,\n",
       "         'It is hard to believe that this is decaffeinated.': 1,\n",
       "         'Just not real espresso': 1,\n",
       "         'The black bean rules!': 1,\n",
       "         'Whew...way to thick. Yuck.': 1,\n",
       "         'Tough, brittle, completely dehydrated, and unsafe.': 1,\n",
       "         'Not happy about this': 1,\n",
       "         'Not Really \"Jerky\"': 1,\n",
       "         'Horrible packaging': 1,\n",
       "         'SORRY, NO GOOD!!!': 1,\n",
       "         'Senseo pods not easy to find': 1,\n",
       "         'Awful smell and taste.': 1,\n",
       "         'I think I got a bad batch': 1,\n",
       "         'If you dont like \"black\" coffee...': 1,\n",
       "         'Hardly a baking powder': 1,\n",
       "         'Stale old and inedible': 1,\n",
       "         'wrong size bottles': 1,\n",
       "         'Green tea': 3,\n",
       "         'Soft and slightly chewy': 1,\n",
       "         'ONE Coconut Water - Love / Hate Relationship': 1,\n",
       "         'O.N.E. awful experience': 1,\n",
       "         'Rating average of 5 and 1': 1,\n",
       "         'Extremely dissapointed': 1,\n",
       "         'I HATE coconut BUT': 1,\n",
       "         'love the water hate the price!': 1,\n",
       "         'HORRIBLE TASTING, Unnaturally Formed Chip': 1,\n",
       "         'only for small cakes': 1,\n",
       "         'Gummy mess': 1,\n",
       "         \"HARD AS CONCRETE, IS THIS HOW IT SHOULD BE? I don't think so!\": 1,\n",
       "         'Stale beans': 1,\n",
       "         'Bad  cat beans': 1,\n",
       "         \"Mberry didn't work for me :-(\": 1,\n",
       "         'Unbelievable!': 1,\n",
       "         'Worked as expected': 1,\n",
       "         'Very slight effect....': 1,\n",
       "         'It works, but not as expected.': 1,\n",
       "         'These are weird!': 1,\n",
       "         'Totally works, but for a limited amount of time': 1,\n",
       "         'Not satisfied': 2,\n",
       "         'Nasty...': 1,\n",
       "         'Not exactly sure how to rate this': 1,\n",
       "         'No better cocoa': 1,\n",
       "         'Awful!!!': 1,\n",
       "         'Does not live up to the hype~': 1,\n",
       "         'Has Partially Hydrogenated Coconut Oil': 1,\n",
       "         'Stale': 7,\n",
       "         'Pixy Stix shows you a tunnel to the past': 1,\n",
       "         'NOT Very Special Liquor: ordered this mistake by mistake': 1,\n",
       "         'Poor Kitty': 1,\n",
       "         'New everyday food': 1,\n",
       "         'Sad this can no longer be autimatic': 1,\n",
       "         'Met my expections, hard to find locally (CAREFUL: THEY STICK IN TEETH!)': 1,\n",
       "         'NOT Whole Chia Seeds': 1,\n",
       "         'Tasty tea, limited help for heartburn': 1,\n",
       "         'Constipation + Sucrose = No, thanks!': 1,\n",
       "         'shipping time is unreasonably long': 1,\n",
       "         'Horribly Constipating': 1,\n",
       "         'No thanks': 1,\n",
       "         'Fun Game for the kids': 1,\n",
       "         'Really Cool Game!': 1,\n",
       "         'tough to take': 1,\n",
       "         \"Don't Buy -- Dreadful!\": 1,\n",
       "         'bad soup': 1,\n",
       "         'Love Blue Mountain Coffee, Hate JABLUM': 1,\n",
       "         'Those Red Hot Blues are one bad mutha...': 1,\n",
       "         \"let's be serious\": 1,\n",
       "         'Not quite what I expected': 1,\n",
       "         'The chips are down': 1,\n",
       "         'Disgusting.': 2,\n",
       "         'UUUUUUUMMMMMMMMM and want them everyday!': 1,\n",
       "         'Hard To Cook': 1,\n",
       "         \"Lowrey's Microwave pork rinds, hard to find at the stores\": 1,\n",
       "         'WASTE OF MONEY': 3,\n",
       "         'I hate to admit it...': 1,\n",
       "         'Unhappy for the first time.': 1,\n",
       "         'nasty': 3,\n",
       "         'Worse  ever!': 1,\n",
       "         \"Hard to find, but Amazon has 'em!\": 1,\n",
       "         'Not what I expected.': 4,\n",
       "         'Wrong Product': 1,\n",
       "         'NOT EDIBLE - MSG - EXCESSIVE SALT': 1,\n",
       "         \"Don't waste your money !!!!!\": 1,\n",
       "         'VERY DISAPPOINTING!  Will NEVER order again': 1,\n",
       "         'Convenient but disappointing': 1,\n",
       "         'You have to be really desperate': 1,\n",
       "         'Terrible!!': 1,\n",
       "         'They taste soooo bad!!!!  Gross!!!': 1,\n",
       "         'BAD BATCH': 1,\n",
       "         'Not Too Bad': 2,\n",
       "         'Awful smell.': 1,\n",
       "         'Poor Quality': 5,\n",
       "         'Edible but not great': 1,\n",
       "         'Bigger box but NOT a good value!': 1,\n",
       "         'I am sad': 1,\n",
       "         'A bit expensive, but you do get what you pay for': 1,\n",
       "         'Hidden Springs Maple syrup': 1,\n",
       "         'Too expensive': 4,\n",
       "         'Not Cheap!': 1,\n",
       "         'Popcorn for the lazy who hate to shop': 1,\n",
       "         'Cheaper Price - But Popcorn Older and Stale': 1,\n",
       "         'Small bags': 1,\n",
       "         'Grotesque! Maybe I Got a bd can but ick!': 1,\n",
       "         \"Don't waste your money!\": 3,\n",
       "         'Just nasty': 1,\n",
       "         \"I'm addicted to this stuff\": 1,\n",
       "         'What a waste of money !!!!!!!': 1,\n",
       "         'worst ramen ever!': 1,\n",
       "         'Slightly healthier but not worth it': 1,\n",
       "         'Everyday food': 1,\n",
       "         \"Black ants don't even get close to it\": 1,\n",
       "         'A Little Disappointed': 1,\n",
       "         'Awful.  How can they sell this in good conscience?': 1,\n",
       "         'Average': 3,\n",
       "         'A small cup of chocolate flavored water': 1,\n",
       "         'Not very good Hot Chocolate': 1,\n",
       "         'Terrible Hot Chocolate': 1,\n",
       "         'Weak hot chocolate': 2,\n",
       "         'Horrible Chocolate': 1,\n",
       "         'Not hot.': 1,\n",
       "         'Really bad hot chocolate': 1,\n",
       "         'Not Great': 2,\n",
       "         'expensive': 1,\n",
       "         'Yuck! Chocolate flavored water is what you get. Not good at all!': 1,\n",
       "         'Not much flavor': 2,\n",
       "         'Too weak': 2,\n",
       "         'These are horrible.': 1,\n",
       "         'Sliced Hard Chicken Hot Dogs for Cats!': 1,\n",
       "         'My cats go crazy!': 1,\n",
       "         'Poor quality ingredients, but my cat loves it.': 1,\n",
       "         \"Horrible stuff but it's all the cat will eat!!\": 1,\n",
       "         'Expensive considering the tiny amount provided': 1,\n",
       "         'As expected': 4,\n",
       "         'Yummy, but hard to spread...': 1,\n",
       "         'Not worth it...': 2,\n",
       "         'My sweetheart is addicted to this': 1,\n",
       "         'reminds me of the chocolate mint Girl Scout Cookies, but  with less sugar.': 1,\n",
       "         'No good.': 1,\n",
       "         'lipton loose tea': 1,\n",
       "         'Lipton Loose Tea': 4,\n",
       "         'Lipton Black Tea, Loose, 1/2 pound Boxes (Pack of Six)': 1,\n",
       "         \"Lipton's Loose Tea\": 1,\n",
       "         'Loose Tea is cheaper than Tea Bags': 1,\n",
       "         'loose tea': 1,\n",
       "         'Lipton Black Tea, Loose,': 1,\n",
       "         'Lipton Loose Leaf Tea': 1,\n",
       "         'Not Very Good  Tea': 1,\n",
       "         'tea is a little on weak side': 1,\n",
       "         'Serious Stuff': 1,\n",
       "         'Nice but too expensive for such a small size': 1,\n",
       "         'Loved by one, hated by the other': 1,\n",
       "         'Hard to find item': 1,\n",
       "         'Seems expensive': 1,\n",
       "         'Dry with after taste': 1,\n",
       "         'Yummy, little crunchy cookies': 1,\n",
       "         'Good Almonds, Terrible Price': 1,\n",
       "         'Not worth the money': 9,\n",
       "         'FREIGHT POSTAGE OUTRAGEOUS': 1,\n",
       "         'blech': 3,\n",
       "         'ALERT! These have changed! Smaller bags, now you get less!': 1,\n",
       "         'Lot of 5 stars but not worthy.': 1,\n",
       "         'Black Gold': 1,\n",
       "         'No better than supermarket coffee': 1,\n",
       "         \"Stop drinking mediocre brews and buy Weaver's Coffee and Tea\": 1,\n",
       "         'nuts great, chocolate covered horribly melted': 1,\n",
       "         'Too expensive!': 2,\n",
       "         'Too Expensive!': 1,\n",
       "         'Expensive Mushrooms?  Ehhh....': 1,\n",
       "         'also know as black mustard': 1,\n",
       "         'Jolt Blue again, at long last!': 1,\n",
       "         'crushed box': 1,\n",
       "         'a little pricy; no details on bag': 1,\n",
       "         'Good company and quality, small and expensive bag': 1,\n",
       "         'Slightly pink in color, but salt non-the-less.': 1,\n",
       "         'Difficult packaging': 1,\n",
       "         'Pink Himalayan Course Grain Salt': 1,\n",
       "         'Huge Disappointment': 1,\n",
       "         'A little goes a long way': 1,\n",
       "         \"At least it's not Slim Jim\": 1,\n",
       "         'Worst meat snack I ever tried': 1,\n",
       "         \"Too bad you can't give it 0 stars!!!\": 1,\n",
       "         'Very Expensive, There are cheaper and Better Ghee than This one': 1,\n",
       "         'Not special': 1,\n",
       "         \"Doesn't taste bad... but does not impress\": 1,\n",
       "         'Classic candy/gum Very nostalgic': 1,\n",
       "         \"There's something wrong here\": 1,\n",
       "         'Unhappy With Purchase': 1,\n",
       "         'Not worth it': 5,\n",
       "         'Fantastic product but way too expensive on Amazon': 1,\n",
       "         'Half the price elsewhere': 1,\n",
       "         'Space saver, be careful if your coffee maker is under a cabinet': 1,\n",
       "         'A little silver dusting goes a long way!': 1,\n",
       "         'Limited edition flavor that deserves a try.....': 1,\n",
       "         'Not A Good Flavor!': 1,\n",
       "         'Tastes a little dry': 1,\n",
       "         'Even the $3.88 I spent on these was a mistake': 1,\n",
       "         'To Sweet!  Wrong Nutrition Info!': 1,\n",
       "         'Bought based on reviews ... no more': 1,\n",
       "         'Not a genuine Terrafina product': 1,\n",
       "         'Fake saffron': 1,\n",
       "         'Unhappy in Virginia': 1,\n",
       "         'Disappointment': 4,\n",
       "         'sour apple tea': 1,\n",
       "         'Unfortunate mistake': 1,\n",
       "         'Great base!': 1,\n",
       "         'A bit weak in flavor': 1,\n",
       "         'Caused diarrhea in one dog, vomiting in the other': 1,\n",
       "         'My dog is addicted!!!': 1,\n",
       "         'Too dry and sharp': 1,\n",
       "         'Made in China! My dog got very sick...': 1,\n",
       "         'Made our dogs Ill': 1,\n",
       "         'TOO TOUGH AND STRINGY FOR SMALL DOGS-CHOKING HAZARD': 1,\n",
       "         'Not Sure': 1,\n",
       "         'Chicken From China . . . No Thanks!': 1,\n",
       "         'Dog went Crazy - Neighbor Dog Wants to Move In - These are Disgusting!!!!': 1,\n",
       "         'dangerous product': 1,\n",
       "         'Zero stars- my dog became ill after eating these': 1,\n",
       "         'Same product, far less money': 1,\n",
       "         'Chinese Chicken': 1,\n",
       "         'FDA Continues to Caution Dog Owners About Chicken Jerky Products 11/18/2011': 1,\n",
       "         'Nasty and questionable: MADE IN CHINA. Read the news!!!!': 1,\n",
       "         'Chicken Jerky alternative (USA-made) to Dogswell': 1,\n",
       "         'FDA Warns Chicken Jerky From China May Harm or Kill Your Dog.': 1,\n",
       "         'dangerous treat': 1,\n",
       "         'If you want your dog to get sick, buy these': 1,\n",
       "         'Awful advertising - THESE ARE MADE IN CHINA... NOT USA': 1,\n",
       "         'made my dog sick': 1,\n",
       "         \"dangerous to your dog's health\": 1,\n",
       "         'Not as good as other canned chicken': 1,\n",
       "         'Useless to me...': 1,\n",
       "         'unbelievable chocolate': 1,\n",
       "         'Tasty chocolate but too few nuts': 1,\n",
       "         'Typical product': 1,\n",
       "         'Horrible taste - better stuff available': 1,\n",
       "         'Tasty, but small and not very many for the price.': 1,\n",
       "         'Not a good batch': 1,\n",
       "         'slightly disappointed': 1,\n",
       "         'Low in Calories. Weak Caramel Taste, Sorta.': 1,\n",
       "         'Essential spice for everyday cooking': 1,\n",
       "         'Deliciously different little wafer cookies': 1,\n",
       "         'Bahlsen Dark Chocolate Cookies -  A Treat': 1,\n",
       "         'delicate biscuits': 1,\n",
       "         'broken cookies': 1,\n",
       "         'Rather Bland': 1,\n",
       "         'God sent for minor digestive issues': 1,\n",
       "         'Kona Coffee Glazed  serious num-nums': 1,\n",
       "         'Hollow and hard!': 1,\n",
       "         'Bad Batch of dog biscuits?': 1,\n",
       "         'Shh!  This is my secret!!': 1,\n",
       "         'My secret weapon for recovery!': 1,\n",
       "         \"Like it but a little small & doesn't roll up that well\": 1,\n",
       "         'Not impressed!': 2,\n",
       "         \"hard, stale, hurts child's mouth\": 1,\n",
       "         'You either love it or hate it, apparently': 1,\n",
       "         'Cheesy popcorn seasoning': 1,\n",
       "         'Festive little seashells': 1,\n",
       "         'STALE!! Nonreturnable and bad ingredient surprise - FDA food safety rules?': 1,\n",
       "         'product tasted stale compared to previous purchases': 1,\n",
       "         'Black Peppercorns': 1,\n",
       "         'Love this popcorn, this $ STINKS!!!!!': 1,\n",
       "         'A Truly Dreadful Product': 1,\n",
       "         'Decent sour candy, not great': 1,\n",
       "         'Ordinary': 1,\n",
       "         'not real - sugar PLUS': 1,\n",
       "         'Horrible now': 1,\n",
       "         ...})"
      ]
     },
     "execution_count": 115,
     "metadata": {},
     "output_type": "execute_result"
    }
   ],
   "source": [
    "Counter(sample_negative['Summary'])"
   ]
  },
  {
   "cell_type": "code",
   "execution_count": 116,
   "id": "5bcb9795",
   "metadata": {},
   "outputs": [
    {
     "data": {
      "text/plain": [
       "[('Disappointed', 44),\n",
       " ('Disappointing', 32),\n",
       " ('Bland', 18),\n",
       " ('Awful', 17),\n",
       " ('Not what I expected', 17),\n",
       " ('Terrible', 15),\n",
       " ('Horrible', 15),\n",
       " ('disappointed', 15),\n",
       " ('Disgusting', 12),\n",
       " ('not good', 11)]"
      ]
     },
     "execution_count": 116,
     "metadata": {},
     "output_type": "execute_result"
    }
   ],
   "source": [
    "Counter(sample_negative['Summary']).most_common(10)"
   ]
  },
  {
   "cell_type": "code",
   "execution_count": 117,
   "id": "d263ebf0",
   "metadata": {},
   "outputs": [
    {
     "data": {
      "text/plain": [
       "[('Delicious!', 208),\n",
       " ('Delicious', 204),\n",
       " ('Great product', 100),\n",
       " ('Excellent', 85),\n",
       " ('Love it!', 81),\n",
       " ('Great', 81),\n",
       " ('Great Product', 77),\n",
       " ('Great!', 70),\n",
       " ('Good stuff', 51),\n",
       " ('Awesome', 50)]"
      ]
     },
     "execution_count": 117,
     "metadata": {},
     "output_type": "execute_result"
    }
   ],
   "source": [
    "Counter(sample_positive['Summary']).most_common(10)"
   ]
  },
  {
   "cell_type": "code",
   "execution_count": null,
   "id": "2f7006e3",
   "metadata": {},
   "outputs": [],
   "source": []
  }
 ],
 "metadata": {
  "kernelspec": {
   "display_name": "Python 3 (ipykernel)",
   "language": "python",
   "name": "python3"
  },
  "language_info": {
   "codemirror_mode": {
    "name": "ipython",
    "version": 3
   },
   "file_extension": ".py",
   "mimetype": "text/x-python",
   "name": "python",
   "nbconvert_exporter": "python",
   "pygments_lexer": "ipython3",
   "version": "3.9.7"
  }
 },
 "nbformat": 4,
 "nbformat_minor": 5
}
